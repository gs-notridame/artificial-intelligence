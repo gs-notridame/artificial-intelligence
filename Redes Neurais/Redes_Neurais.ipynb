{
  "cells": [
    {
      "cell_type": "markdown",
      "metadata": {
        "id": "biFobm5O_e1B"
      },
      "source": [
        "# Global Solution - Redes Neurais\n"
      ]
    },
    {
      "cell_type": "code",
      "execution_count": 57,
      "metadata": {
        "id": "kBIPcn63_gih"
      },
      "outputs": [],
      "source": [
        "# Importando as bibliotecas que serão utilizadas\n",
        "import numpy as np\n",
        "import pandas as pd\n",
        "import matplotlib.pyplot as plt\n",
        "\n",
        "from keras.models import Sequential\n",
        "from keras.layers  import Dense, Dropout\n",
        "from keras.utils import to_categorical\n",
        "\n",
        "from sklearn.model_selection import train_test_split\n",
        "from sklearn.preprocessing import LabelEncoder"
      ]
    },
    {
      "cell_type": "markdown",
      "metadata": {
        "id": "yjrUZDyCAZMD"
      },
      "source": [
        "### Descrição do dataset\n",
        "\n",
        "*Heart Attack Prediction*\n",
        "\n",
        "Este conjunto de dados é voltado para a análise de risco de ataque cardíaco em pacientes, com base em uma variedade de fatores de saúde e estilo de vida. Aqui está uma explicação de cada coluna:\n",
        "\n",
        "1. **Patient ID**: Um identificador único para cada paciente.\n",
        "2. **Age**: Idade do paciente.\n",
        "3. **Sex**: Sexo do paciente (Masculino ou Feminino).\n",
        "4. **Cholesterol**: Nível de colesterol do paciente.\n",
        "5. **Blood Pressure**: Pressão arterial do paciente, registrada como sistólica/diastólica.\n",
        "6. **Heart Rate**: Frequência cardíaca do paciente.\n",
        "7. **Diabetes**: Indica se o paciente tem diabetes (1 para sim, 0 para não).\n",
        "8. **Family History**: Indica se há histórico de problemas cardíacos na família (1 para sim, 0 para não).\n",
        "9. **Smoking**: Indica se o paciente é fumante (1 para sim, 0 para não).\n",
        "10. **Obesity**: Indica se o paciente é obeso (1 para sim, 0 para não).\n",
        "11. **Alcohol Consumption**: Consumo de álcool do paciente.\n",
        "12. **Exercise Hours Per Week**: Quantidade de horas de exercício por semana.\n",
        "13. **Diet**: Qualidade da dieta do paciente (por exemplo, \"Average\" indica uma dieta média).\n",
        "14. **Previous Heart Problems**: Indica se o paciente teve problemas cardíacos anteriormente (1 para sim, 0 para não).\n",
        "15. **Medication Use**: Indica se o paciente faz uso de medicamentos (1 para sim, 0 para não).\n",
        "16. **Stress Level**: Nível de estresse do paciente.\n",
        "17. **Sedentary Hours Per Day**: Quantidade de horas sedentárias por dia.\n",
        "18. **Income**: Renda anual do paciente.\n",
        "19. **BMI**: Índice de Massa Corporal do paciente.\n",
        "20. **Triglycerides**: Nível de triglicerídeos no sangue do paciente.\n",
        "21. **Physical Activity Days Per Week**: Quantidade de dias por semana que o paciente realiza atividades físicas.\n",
        "22. **Sleep Hours Per Day**: Quantidade média de horas de sono por dia.\n",
        "23. **Country**: País de residência do paciente.\n",
        "24. **Continent**: Continente onde o paciente reside.\n",
        "25. **Hemisphere**: Hemisfério em que o paciente reside (por exemplo, Hemisfério Sul).\n",
        "26. **Heart Attack Risk**: Risco de ataque cardíaco (1 indica alto risco, 0 indica baixo risco).\n",
        "\n",
        "Este conjunto de dados é muito útil para pesquisas e análises no campo da saúde, particularmente em relação à saúde cardíaca e aos fatores de risco associados a ataques cardíacos.\n",
        "\n",
        "\n",
        "\n",
        "\n",
        "\n"
      ]
    },
    {
      "cell_type": "code",
      "execution_count": 58,
      "metadata": {
        "id": "fDvzfNe2CvGw"
      },
      "outputs": [],
      "source": [
        "# Carregando o dataset\n",
        "\n",
        "dados = pd.read_csv('/content/heart_attack_prediction_dataset.csv', sep=',')"
      ]
    },
    {
      "cell_type": "code",
      "execution_count": 59,
      "metadata": {
        "colab": {
          "base_uri": "https://localhost:8080/",
          "height": 394
        },
        "id": "oxgFkH20EEhC",
        "outputId": "118e5c54-06dc-4523-8e7b-6ca20742a092"
      },
      "outputs": [
        {
          "data": {
            "text/html": [
              "\n",
              "  <div id=\"df-d4492f86-118a-4095-ae2b-2fa5a8de73c1\" class=\"colab-df-container\">\n",
              "    <div>\n",
              "<style scoped>\n",
              "    .dataframe tbody tr th:only-of-type {\n",
              "        vertical-align: middle;\n",
              "    }\n",
              "\n",
              "    .dataframe tbody tr th {\n",
              "        vertical-align: top;\n",
              "    }\n",
              "\n",
              "    .dataframe thead th {\n",
              "        text-align: right;\n",
              "    }\n",
              "</style>\n",
              "<table border=\"1\" class=\"dataframe\">\n",
              "  <thead>\n",
              "    <tr style=\"text-align: right;\">\n",
              "      <th></th>\n",
              "      <th>Patient ID</th>\n",
              "      <th>Age</th>\n",
              "      <th>Sex</th>\n",
              "      <th>Cholesterol</th>\n",
              "      <th>Blood Pressure</th>\n",
              "      <th>Heart Rate</th>\n",
              "      <th>Diabetes</th>\n",
              "      <th>Family History</th>\n",
              "      <th>Smoking</th>\n",
              "      <th>Obesity</th>\n",
              "      <th>...</th>\n",
              "      <th>Sedentary Hours Per Day</th>\n",
              "      <th>Income</th>\n",
              "      <th>BMI</th>\n",
              "      <th>Triglycerides</th>\n",
              "      <th>Physical Activity Days Per Week</th>\n",
              "      <th>Sleep Hours Per Day</th>\n",
              "      <th>Country</th>\n",
              "      <th>Continent</th>\n",
              "      <th>Hemisphere</th>\n",
              "      <th>Heart Attack Risk</th>\n",
              "    </tr>\n",
              "  </thead>\n",
              "  <tbody>\n",
              "    <tr>\n",
              "      <th>0</th>\n",
              "      <td>BMW7812</td>\n",
              "      <td>67</td>\n",
              "      <td>Male</td>\n",
              "      <td>208</td>\n",
              "      <td>158/88</td>\n",
              "      <td>72</td>\n",
              "      <td>0</td>\n",
              "      <td>0</td>\n",
              "      <td>1</td>\n",
              "      <td>0</td>\n",
              "      <td>...</td>\n",
              "      <td>6.615001</td>\n",
              "      <td>261404</td>\n",
              "      <td>31.251233</td>\n",
              "      <td>286</td>\n",
              "      <td>0</td>\n",
              "      <td>6</td>\n",
              "      <td>Argentina</td>\n",
              "      <td>South America</td>\n",
              "      <td>Southern Hemisphere</td>\n",
              "      <td>0</td>\n",
              "    </tr>\n",
              "    <tr>\n",
              "      <th>1</th>\n",
              "      <td>CZE1114</td>\n",
              "      <td>21</td>\n",
              "      <td>Male</td>\n",
              "      <td>389</td>\n",
              "      <td>165/93</td>\n",
              "      <td>98</td>\n",
              "      <td>1</td>\n",
              "      <td>1</td>\n",
              "      <td>1</td>\n",
              "      <td>1</td>\n",
              "      <td>...</td>\n",
              "      <td>4.963459</td>\n",
              "      <td>285768</td>\n",
              "      <td>27.194973</td>\n",
              "      <td>235</td>\n",
              "      <td>1</td>\n",
              "      <td>7</td>\n",
              "      <td>Canada</td>\n",
              "      <td>North America</td>\n",
              "      <td>Northern Hemisphere</td>\n",
              "      <td>0</td>\n",
              "    </tr>\n",
              "    <tr>\n",
              "      <th>2</th>\n",
              "      <td>BNI9906</td>\n",
              "      <td>21</td>\n",
              "      <td>Female</td>\n",
              "      <td>324</td>\n",
              "      <td>174/99</td>\n",
              "      <td>72</td>\n",
              "      <td>1</td>\n",
              "      <td>0</td>\n",
              "      <td>0</td>\n",
              "      <td>0</td>\n",
              "      <td>...</td>\n",
              "      <td>9.463426</td>\n",
              "      <td>235282</td>\n",
              "      <td>28.176571</td>\n",
              "      <td>587</td>\n",
              "      <td>4</td>\n",
              "      <td>4</td>\n",
              "      <td>France</td>\n",
              "      <td>Europe</td>\n",
              "      <td>Northern Hemisphere</td>\n",
              "      <td>0</td>\n",
              "    </tr>\n",
              "    <tr>\n",
              "      <th>3</th>\n",
              "      <td>JLN3497</td>\n",
              "      <td>84</td>\n",
              "      <td>Male</td>\n",
              "      <td>383</td>\n",
              "      <td>163/100</td>\n",
              "      <td>73</td>\n",
              "      <td>1</td>\n",
              "      <td>1</td>\n",
              "      <td>1</td>\n",
              "      <td>0</td>\n",
              "      <td>...</td>\n",
              "      <td>7.648981</td>\n",
              "      <td>125640</td>\n",
              "      <td>36.464704</td>\n",
              "      <td>378</td>\n",
              "      <td>3</td>\n",
              "      <td>4</td>\n",
              "      <td>Canada</td>\n",
              "      <td>North America</td>\n",
              "      <td>Northern Hemisphere</td>\n",
              "      <td>0</td>\n",
              "    </tr>\n",
              "    <tr>\n",
              "      <th>4</th>\n",
              "      <td>GFO8847</td>\n",
              "      <td>66</td>\n",
              "      <td>Male</td>\n",
              "      <td>318</td>\n",
              "      <td>91/88</td>\n",
              "      <td>93</td>\n",
              "      <td>1</td>\n",
              "      <td>1</td>\n",
              "      <td>1</td>\n",
              "      <td>1</td>\n",
              "      <td>...</td>\n",
              "      <td>1.514821</td>\n",
              "      <td>160555</td>\n",
              "      <td>21.809144</td>\n",
              "      <td>231</td>\n",
              "      <td>1</td>\n",
              "      <td>5</td>\n",
              "      <td>Thailand</td>\n",
              "      <td>Asia</td>\n",
              "      <td>Northern Hemisphere</td>\n",
              "      <td>0</td>\n",
              "    </tr>\n",
              "  </tbody>\n",
              "</table>\n",
              "<p>5 rows × 26 columns</p>\n",
              "</div>\n",
              "    <div class=\"colab-df-buttons\">\n",
              "\n",
              "  <div class=\"colab-df-container\">\n",
              "    <button class=\"colab-df-convert\" onclick=\"convertToInteractive('df-d4492f86-118a-4095-ae2b-2fa5a8de73c1')\"\n",
              "            title=\"Convert this dataframe to an interactive table.\"\n",
              "            style=\"display:none;\">\n",
              "\n",
              "  <svg xmlns=\"http://www.w3.org/2000/svg\" height=\"24px\" viewBox=\"0 -960 960 960\">\n",
              "    <path d=\"M120-120v-720h720v720H120Zm60-500h600v-160H180v160Zm220 220h160v-160H400v160Zm0 220h160v-160H400v160ZM180-400h160v-160H180v160Zm440 0h160v-160H620v160ZM180-180h160v-160H180v160Zm440 0h160v-160H620v160Z\"/>\n",
              "  </svg>\n",
              "    </button>\n",
              "\n",
              "  <style>\n",
              "    .colab-df-container {\n",
              "      display:flex;\n",
              "      gap: 12px;\n",
              "    }\n",
              "\n",
              "    .colab-df-convert {\n",
              "      background-color: #E8F0FE;\n",
              "      border: none;\n",
              "      border-radius: 50%;\n",
              "      cursor: pointer;\n",
              "      display: none;\n",
              "      fill: #1967D2;\n",
              "      height: 32px;\n",
              "      padding: 0 0 0 0;\n",
              "      width: 32px;\n",
              "    }\n",
              "\n",
              "    .colab-df-convert:hover {\n",
              "      background-color: #E2EBFA;\n",
              "      box-shadow: 0px 1px 2px rgba(60, 64, 67, 0.3), 0px 1px 3px 1px rgba(60, 64, 67, 0.15);\n",
              "      fill: #174EA6;\n",
              "    }\n",
              "\n",
              "    .colab-df-buttons div {\n",
              "      margin-bottom: 4px;\n",
              "    }\n",
              "\n",
              "    [theme=dark] .colab-df-convert {\n",
              "      background-color: #3B4455;\n",
              "      fill: #D2E3FC;\n",
              "    }\n",
              "\n",
              "    [theme=dark] .colab-df-convert:hover {\n",
              "      background-color: #434B5C;\n",
              "      box-shadow: 0px 1px 3px 1px rgba(0, 0, 0, 0.15);\n",
              "      filter: drop-shadow(0px 1px 2px rgba(0, 0, 0, 0.3));\n",
              "      fill: #FFFFFF;\n",
              "    }\n",
              "  </style>\n",
              "\n",
              "    <script>\n",
              "      const buttonEl =\n",
              "        document.querySelector('#df-d4492f86-118a-4095-ae2b-2fa5a8de73c1 button.colab-df-convert');\n",
              "      buttonEl.style.display =\n",
              "        google.colab.kernel.accessAllowed ? 'block' : 'none';\n",
              "\n",
              "      async function convertToInteractive(key) {\n",
              "        const element = document.querySelector('#df-d4492f86-118a-4095-ae2b-2fa5a8de73c1');\n",
              "        const dataTable =\n",
              "          await google.colab.kernel.invokeFunction('convertToInteractive',\n",
              "                                                    [key], {});\n",
              "        if (!dataTable) return;\n",
              "\n",
              "        const docLinkHtml = 'Like what you see? Visit the ' +\n",
              "          '<a target=\"_blank\" href=https://colab.research.google.com/notebooks/data_table.ipynb>data table notebook</a>'\n",
              "          + ' to learn more about interactive tables.';\n",
              "        element.innerHTML = '';\n",
              "        dataTable['output_type'] = 'display_data';\n",
              "        await google.colab.output.renderOutput(dataTable, element);\n",
              "        const docLink = document.createElement('div');\n",
              "        docLink.innerHTML = docLinkHtml;\n",
              "        element.appendChild(docLink);\n",
              "      }\n",
              "    </script>\n",
              "  </div>\n",
              "\n",
              "\n",
              "<div id=\"df-f7ddbde6-9884-4214-b068-118ba9b9c4df\">\n",
              "  <button class=\"colab-df-quickchart\" onclick=\"quickchart('df-f7ddbde6-9884-4214-b068-118ba9b9c4df')\"\n",
              "            title=\"Suggest charts\"\n",
              "            style=\"display:none;\">\n",
              "\n",
              "<svg xmlns=\"http://www.w3.org/2000/svg\" height=\"24px\"viewBox=\"0 0 24 24\"\n",
              "     width=\"24px\">\n",
              "    <g>\n",
              "        <path d=\"M19 3H5c-1.1 0-2 .9-2 2v14c0 1.1.9 2 2 2h14c1.1 0 2-.9 2-2V5c0-1.1-.9-2-2-2zM9 17H7v-7h2v7zm4 0h-2V7h2v10zm4 0h-2v-4h2v4z\"/>\n",
              "    </g>\n",
              "</svg>\n",
              "  </button>\n",
              "\n",
              "<style>\n",
              "  .colab-df-quickchart {\n",
              "      --bg-color: #E8F0FE;\n",
              "      --fill-color: #1967D2;\n",
              "      --hover-bg-color: #E2EBFA;\n",
              "      --hover-fill-color: #174EA6;\n",
              "      --disabled-fill-color: #AAA;\n",
              "      --disabled-bg-color: #DDD;\n",
              "  }\n",
              "\n",
              "  [theme=dark] .colab-df-quickchart {\n",
              "      --bg-color: #3B4455;\n",
              "      --fill-color: #D2E3FC;\n",
              "      --hover-bg-color: #434B5C;\n",
              "      --hover-fill-color: #FFFFFF;\n",
              "      --disabled-bg-color: #3B4455;\n",
              "      --disabled-fill-color: #666;\n",
              "  }\n",
              "\n",
              "  .colab-df-quickchart {\n",
              "    background-color: var(--bg-color);\n",
              "    border: none;\n",
              "    border-radius: 50%;\n",
              "    cursor: pointer;\n",
              "    display: none;\n",
              "    fill: var(--fill-color);\n",
              "    height: 32px;\n",
              "    padding: 0;\n",
              "    width: 32px;\n",
              "  }\n",
              "\n",
              "  .colab-df-quickchart:hover {\n",
              "    background-color: var(--hover-bg-color);\n",
              "    box-shadow: 0 1px 2px rgba(60, 64, 67, 0.3), 0 1px 3px 1px rgba(60, 64, 67, 0.15);\n",
              "    fill: var(--button-hover-fill-color);\n",
              "  }\n",
              "\n",
              "  .colab-df-quickchart-complete:disabled,\n",
              "  .colab-df-quickchart-complete:disabled:hover {\n",
              "    background-color: var(--disabled-bg-color);\n",
              "    fill: var(--disabled-fill-color);\n",
              "    box-shadow: none;\n",
              "  }\n",
              "\n",
              "  .colab-df-spinner {\n",
              "    border: 2px solid var(--fill-color);\n",
              "    border-color: transparent;\n",
              "    border-bottom-color: var(--fill-color);\n",
              "    animation:\n",
              "      spin 1s steps(1) infinite;\n",
              "  }\n",
              "\n",
              "  @keyframes spin {\n",
              "    0% {\n",
              "      border-color: transparent;\n",
              "      border-bottom-color: var(--fill-color);\n",
              "      border-left-color: var(--fill-color);\n",
              "    }\n",
              "    20% {\n",
              "      border-color: transparent;\n",
              "      border-left-color: var(--fill-color);\n",
              "      border-top-color: var(--fill-color);\n",
              "    }\n",
              "    30% {\n",
              "      border-color: transparent;\n",
              "      border-left-color: var(--fill-color);\n",
              "      border-top-color: var(--fill-color);\n",
              "      border-right-color: var(--fill-color);\n",
              "    }\n",
              "    40% {\n",
              "      border-color: transparent;\n",
              "      border-right-color: var(--fill-color);\n",
              "      border-top-color: var(--fill-color);\n",
              "    }\n",
              "    60% {\n",
              "      border-color: transparent;\n",
              "      border-right-color: var(--fill-color);\n",
              "    }\n",
              "    80% {\n",
              "      border-color: transparent;\n",
              "      border-right-color: var(--fill-color);\n",
              "      border-bottom-color: var(--fill-color);\n",
              "    }\n",
              "    90% {\n",
              "      border-color: transparent;\n",
              "      border-bottom-color: var(--fill-color);\n",
              "    }\n",
              "  }\n",
              "</style>\n",
              "\n",
              "  <script>\n",
              "    async function quickchart(key) {\n",
              "      const quickchartButtonEl =\n",
              "        document.querySelector('#' + key + ' button');\n",
              "      quickchartButtonEl.disabled = true;  // To prevent multiple clicks.\n",
              "      quickchartButtonEl.classList.add('colab-df-spinner');\n",
              "      try {\n",
              "        const charts = await google.colab.kernel.invokeFunction(\n",
              "            'suggestCharts', [key], {});\n",
              "      } catch (error) {\n",
              "        console.error('Error during call to suggestCharts:', error);\n",
              "      }\n",
              "      quickchartButtonEl.classList.remove('colab-df-spinner');\n",
              "      quickchartButtonEl.classList.add('colab-df-quickchart-complete');\n",
              "    }\n",
              "    (() => {\n",
              "      let quickchartButtonEl =\n",
              "        document.querySelector('#df-f7ddbde6-9884-4214-b068-118ba9b9c4df button');\n",
              "      quickchartButtonEl.style.display =\n",
              "        google.colab.kernel.accessAllowed ? 'block' : 'none';\n",
              "    })();\n",
              "  </script>\n",
              "</div>\n",
              "    </div>\n",
              "  </div>\n"
            ],
            "text/plain": [
              "  Patient ID  Age     Sex  Cholesterol Blood Pressure  Heart Rate  Diabetes  \\\n",
              "0    BMW7812   67    Male          208         158/88          72         0   \n",
              "1    CZE1114   21    Male          389         165/93          98         1   \n",
              "2    BNI9906   21  Female          324         174/99          72         1   \n",
              "3    JLN3497   84    Male          383        163/100          73         1   \n",
              "4    GFO8847   66    Male          318          91/88          93         1   \n",
              "\n",
              "   Family History  Smoking  Obesity  ...  Sedentary Hours Per Day  Income  \\\n",
              "0               0        1        0  ...                 6.615001  261404   \n",
              "1               1        1        1  ...                 4.963459  285768   \n",
              "2               0        0        0  ...                 9.463426  235282   \n",
              "3               1        1        0  ...                 7.648981  125640   \n",
              "4               1        1        1  ...                 1.514821  160555   \n",
              "\n",
              "         BMI  Triglycerides  Physical Activity Days Per Week  \\\n",
              "0  31.251233            286                                0   \n",
              "1  27.194973            235                                1   \n",
              "2  28.176571            587                                4   \n",
              "3  36.464704            378                                3   \n",
              "4  21.809144            231                                1   \n",
              "\n",
              "   Sleep Hours Per Day    Country      Continent           Hemisphere  \\\n",
              "0                    6  Argentina  South America  Southern Hemisphere   \n",
              "1                    7     Canada  North America  Northern Hemisphere   \n",
              "2                    4     France         Europe  Northern Hemisphere   \n",
              "3                    4     Canada  North America  Northern Hemisphere   \n",
              "4                    5   Thailand           Asia  Northern Hemisphere   \n",
              "\n",
              "   Heart Attack Risk  \n",
              "0                  0  \n",
              "1                  0  \n",
              "2                  0  \n",
              "3                  0  \n",
              "4                  0  \n",
              "\n",
              "[5 rows x 26 columns]"
            ]
          },
          "execution_count": 59,
          "metadata": {},
          "output_type": "execute_result"
        }
      ],
      "source": [
        "# Mostrando apenas os primeiros 5 dados\n",
        "\n",
        "dados.head()"
      ]
    },
    {
      "cell_type": "code",
      "execution_count": 60,
      "metadata": {
        "colab": {
          "base_uri": "https://localhost:8080/",
          "height": 372
        },
        "id": "54rMPRoJEUjj",
        "outputId": "abbad8cf-ae57-41e0-bbde-483d0ff3ba3b"
      },
      "outputs": [
        {
          "data": {
            "text/html": [
              "\n",
              "  <div id=\"df-8320548a-5007-4acf-b39f-a36a55e4257e\" class=\"colab-df-container\">\n",
              "    <div>\n",
              "<style scoped>\n",
              "    .dataframe tbody tr th:only-of-type {\n",
              "        vertical-align: middle;\n",
              "    }\n",
              "\n",
              "    .dataframe tbody tr th {\n",
              "        vertical-align: top;\n",
              "    }\n",
              "\n",
              "    .dataframe thead th {\n",
              "        text-align: right;\n",
              "    }\n",
              "</style>\n",
              "<table border=\"1\" class=\"dataframe\">\n",
              "  <thead>\n",
              "    <tr style=\"text-align: right;\">\n",
              "      <th></th>\n",
              "      <th>Age</th>\n",
              "      <th>Cholesterol</th>\n",
              "      <th>Heart Rate</th>\n",
              "      <th>Diabetes</th>\n",
              "      <th>Family History</th>\n",
              "      <th>Smoking</th>\n",
              "      <th>Obesity</th>\n",
              "      <th>Alcohol Consumption</th>\n",
              "      <th>Exercise Hours Per Week</th>\n",
              "      <th>Previous Heart Problems</th>\n",
              "      <th>Medication Use</th>\n",
              "      <th>Stress Level</th>\n",
              "      <th>Sedentary Hours Per Day</th>\n",
              "      <th>Income</th>\n",
              "      <th>BMI</th>\n",
              "      <th>Triglycerides</th>\n",
              "      <th>Physical Activity Days Per Week</th>\n",
              "      <th>Sleep Hours Per Day</th>\n",
              "      <th>Heart Attack Risk</th>\n",
              "    </tr>\n",
              "  </thead>\n",
              "  <tbody>\n",
              "    <tr>\n",
              "      <th>count</th>\n",
              "      <td>8763.000000</td>\n",
              "      <td>8763.000000</td>\n",
              "      <td>8763.000000</td>\n",
              "      <td>8763.000000</td>\n",
              "      <td>8763.000000</td>\n",
              "      <td>8763.000000</td>\n",
              "      <td>8763.000000</td>\n",
              "      <td>8763.000000</td>\n",
              "      <td>8763.000000</td>\n",
              "      <td>8763.000000</td>\n",
              "      <td>8763.000000</td>\n",
              "      <td>8763.000000</td>\n",
              "      <td>8763.000000</td>\n",
              "      <td>8763.000000</td>\n",
              "      <td>8763.000000</td>\n",
              "      <td>8763.000000</td>\n",
              "      <td>8763.000000</td>\n",
              "      <td>8763.000000</td>\n",
              "      <td>8763.000000</td>\n",
              "    </tr>\n",
              "    <tr>\n",
              "      <th>mean</th>\n",
              "      <td>53.707977</td>\n",
              "      <td>259.877211</td>\n",
              "      <td>75.021682</td>\n",
              "      <td>0.652288</td>\n",
              "      <td>0.492982</td>\n",
              "      <td>0.896839</td>\n",
              "      <td>0.501426</td>\n",
              "      <td>0.598083</td>\n",
              "      <td>10.014284</td>\n",
              "      <td>0.495835</td>\n",
              "      <td>0.498345</td>\n",
              "      <td>5.469702</td>\n",
              "      <td>5.993690</td>\n",
              "      <td>158263.181901</td>\n",
              "      <td>28.891446</td>\n",
              "      <td>417.677051</td>\n",
              "      <td>3.489672</td>\n",
              "      <td>7.023508</td>\n",
              "      <td>0.358211</td>\n",
              "    </tr>\n",
              "    <tr>\n",
              "      <th>std</th>\n",
              "      <td>21.249509</td>\n",
              "      <td>80.863276</td>\n",
              "      <td>20.550948</td>\n",
              "      <td>0.476271</td>\n",
              "      <td>0.499979</td>\n",
              "      <td>0.304186</td>\n",
              "      <td>0.500026</td>\n",
              "      <td>0.490313</td>\n",
              "      <td>5.783745</td>\n",
              "      <td>0.500011</td>\n",
              "      <td>0.500026</td>\n",
              "      <td>2.859622</td>\n",
              "      <td>3.466359</td>\n",
              "      <td>80575.190806</td>\n",
              "      <td>6.319181</td>\n",
              "      <td>223.748137</td>\n",
              "      <td>2.282687</td>\n",
              "      <td>1.988473</td>\n",
              "      <td>0.479502</td>\n",
              "    </tr>\n",
              "    <tr>\n",
              "      <th>min</th>\n",
              "      <td>18.000000</td>\n",
              "      <td>120.000000</td>\n",
              "      <td>40.000000</td>\n",
              "      <td>0.000000</td>\n",
              "      <td>0.000000</td>\n",
              "      <td>0.000000</td>\n",
              "      <td>0.000000</td>\n",
              "      <td>0.000000</td>\n",
              "      <td>0.002442</td>\n",
              "      <td>0.000000</td>\n",
              "      <td>0.000000</td>\n",
              "      <td>1.000000</td>\n",
              "      <td>0.001263</td>\n",
              "      <td>20062.000000</td>\n",
              "      <td>18.002337</td>\n",
              "      <td>30.000000</td>\n",
              "      <td>0.000000</td>\n",
              "      <td>4.000000</td>\n",
              "      <td>0.000000</td>\n",
              "    </tr>\n",
              "    <tr>\n",
              "      <th>25%</th>\n",
              "      <td>35.000000</td>\n",
              "      <td>192.000000</td>\n",
              "      <td>57.000000</td>\n",
              "      <td>0.000000</td>\n",
              "      <td>0.000000</td>\n",
              "      <td>1.000000</td>\n",
              "      <td>0.000000</td>\n",
              "      <td>0.000000</td>\n",
              "      <td>4.981579</td>\n",
              "      <td>0.000000</td>\n",
              "      <td>0.000000</td>\n",
              "      <td>3.000000</td>\n",
              "      <td>2.998794</td>\n",
              "      <td>88310.000000</td>\n",
              "      <td>23.422985</td>\n",
              "      <td>225.500000</td>\n",
              "      <td>2.000000</td>\n",
              "      <td>5.000000</td>\n",
              "      <td>0.000000</td>\n",
              "    </tr>\n",
              "    <tr>\n",
              "      <th>50%</th>\n",
              "      <td>54.000000</td>\n",
              "      <td>259.000000</td>\n",
              "      <td>75.000000</td>\n",
              "      <td>1.000000</td>\n",
              "      <td>0.000000</td>\n",
              "      <td>1.000000</td>\n",
              "      <td>1.000000</td>\n",
              "      <td>1.000000</td>\n",
              "      <td>10.069559</td>\n",
              "      <td>0.000000</td>\n",
              "      <td>0.000000</td>\n",
              "      <td>5.000000</td>\n",
              "      <td>5.933622</td>\n",
              "      <td>157866.000000</td>\n",
              "      <td>28.768999</td>\n",
              "      <td>417.000000</td>\n",
              "      <td>3.000000</td>\n",
              "      <td>7.000000</td>\n",
              "      <td>0.000000</td>\n",
              "    </tr>\n",
              "    <tr>\n",
              "      <th>75%</th>\n",
              "      <td>72.000000</td>\n",
              "      <td>330.000000</td>\n",
              "      <td>93.000000</td>\n",
              "      <td>1.000000</td>\n",
              "      <td>1.000000</td>\n",
              "      <td>1.000000</td>\n",
              "      <td>1.000000</td>\n",
              "      <td>1.000000</td>\n",
              "      <td>15.050018</td>\n",
              "      <td>1.000000</td>\n",
              "      <td>1.000000</td>\n",
              "      <td>8.000000</td>\n",
              "      <td>9.019124</td>\n",
              "      <td>227749.000000</td>\n",
              "      <td>34.324594</td>\n",
              "      <td>612.000000</td>\n",
              "      <td>5.000000</td>\n",
              "      <td>9.000000</td>\n",
              "      <td>1.000000</td>\n",
              "    </tr>\n",
              "    <tr>\n",
              "      <th>max</th>\n",
              "      <td>90.000000</td>\n",
              "      <td>400.000000</td>\n",
              "      <td>110.000000</td>\n",
              "      <td>1.000000</td>\n",
              "      <td>1.000000</td>\n",
              "      <td>1.000000</td>\n",
              "      <td>1.000000</td>\n",
              "      <td>1.000000</td>\n",
              "      <td>19.998709</td>\n",
              "      <td>1.000000</td>\n",
              "      <td>1.000000</td>\n",
              "      <td>10.000000</td>\n",
              "      <td>11.999313</td>\n",
              "      <td>299954.000000</td>\n",
              "      <td>39.997211</td>\n",
              "      <td>800.000000</td>\n",
              "      <td>7.000000</td>\n",
              "      <td>10.000000</td>\n",
              "      <td>1.000000</td>\n",
              "    </tr>\n",
              "  </tbody>\n",
              "</table>\n",
              "</div>\n",
              "    <div class=\"colab-df-buttons\">\n",
              "\n",
              "  <div class=\"colab-df-container\">\n",
              "    <button class=\"colab-df-convert\" onclick=\"convertToInteractive('df-8320548a-5007-4acf-b39f-a36a55e4257e')\"\n",
              "            title=\"Convert this dataframe to an interactive table.\"\n",
              "            style=\"display:none;\">\n",
              "\n",
              "  <svg xmlns=\"http://www.w3.org/2000/svg\" height=\"24px\" viewBox=\"0 -960 960 960\">\n",
              "    <path d=\"M120-120v-720h720v720H120Zm60-500h600v-160H180v160Zm220 220h160v-160H400v160Zm0 220h160v-160H400v160ZM180-400h160v-160H180v160Zm440 0h160v-160H620v160ZM180-180h160v-160H180v160Zm440 0h160v-160H620v160Z\"/>\n",
              "  </svg>\n",
              "    </button>\n",
              "\n",
              "  <style>\n",
              "    .colab-df-container {\n",
              "      display:flex;\n",
              "      gap: 12px;\n",
              "    }\n",
              "\n",
              "    .colab-df-convert {\n",
              "      background-color: #E8F0FE;\n",
              "      border: none;\n",
              "      border-radius: 50%;\n",
              "      cursor: pointer;\n",
              "      display: none;\n",
              "      fill: #1967D2;\n",
              "      height: 32px;\n",
              "      padding: 0 0 0 0;\n",
              "      width: 32px;\n",
              "    }\n",
              "\n",
              "    .colab-df-convert:hover {\n",
              "      background-color: #E2EBFA;\n",
              "      box-shadow: 0px 1px 2px rgba(60, 64, 67, 0.3), 0px 1px 3px 1px rgba(60, 64, 67, 0.15);\n",
              "      fill: #174EA6;\n",
              "    }\n",
              "\n",
              "    .colab-df-buttons div {\n",
              "      margin-bottom: 4px;\n",
              "    }\n",
              "\n",
              "    [theme=dark] .colab-df-convert {\n",
              "      background-color: #3B4455;\n",
              "      fill: #D2E3FC;\n",
              "    }\n",
              "\n",
              "    [theme=dark] .colab-df-convert:hover {\n",
              "      background-color: #434B5C;\n",
              "      box-shadow: 0px 1px 3px 1px rgba(0, 0, 0, 0.15);\n",
              "      filter: drop-shadow(0px 1px 2px rgba(0, 0, 0, 0.3));\n",
              "      fill: #FFFFFF;\n",
              "    }\n",
              "  </style>\n",
              "\n",
              "    <script>\n",
              "      const buttonEl =\n",
              "        document.querySelector('#df-8320548a-5007-4acf-b39f-a36a55e4257e button.colab-df-convert');\n",
              "      buttonEl.style.display =\n",
              "        google.colab.kernel.accessAllowed ? 'block' : 'none';\n",
              "\n",
              "      async function convertToInteractive(key) {\n",
              "        const element = document.querySelector('#df-8320548a-5007-4acf-b39f-a36a55e4257e');\n",
              "        const dataTable =\n",
              "          await google.colab.kernel.invokeFunction('convertToInteractive',\n",
              "                                                    [key], {});\n",
              "        if (!dataTable) return;\n",
              "\n",
              "        const docLinkHtml = 'Like what you see? Visit the ' +\n",
              "          '<a target=\"_blank\" href=https://colab.research.google.com/notebooks/data_table.ipynb>data table notebook</a>'\n",
              "          + ' to learn more about interactive tables.';\n",
              "        element.innerHTML = '';\n",
              "        dataTable['output_type'] = 'display_data';\n",
              "        await google.colab.output.renderOutput(dataTable, element);\n",
              "        const docLink = document.createElement('div');\n",
              "        docLink.innerHTML = docLinkHtml;\n",
              "        element.appendChild(docLink);\n",
              "      }\n",
              "    </script>\n",
              "  </div>\n",
              "\n",
              "\n",
              "<div id=\"df-fb030539-c03f-4776-bd02-551a6493513d\">\n",
              "  <button class=\"colab-df-quickchart\" onclick=\"quickchart('df-fb030539-c03f-4776-bd02-551a6493513d')\"\n",
              "            title=\"Suggest charts\"\n",
              "            style=\"display:none;\">\n",
              "\n",
              "<svg xmlns=\"http://www.w3.org/2000/svg\" height=\"24px\"viewBox=\"0 0 24 24\"\n",
              "     width=\"24px\">\n",
              "    <g>\n",
              "        <path d=\"M19 3H5c-1.1 0-2 .9-2 2v14c0 1.1.9 2 2 2h14c1.1 0 2-.9 2-2V5c0-1.1-.9-2-2-2zM9 17H7v-7h2v7zm4 0h-2V7h2v10zm4 0h-2v-4h2v4z\"/>\n",
              "    </g>\n",
              "</svg>\n",
              "  </button>\n",
              "\n",
              "<style>\n",
              "  .colab-df-quickchart {\n",
              "      --bg-color: #E8F0FE;\n",
              "      --fill-color: #1967D2;\n",
              "      --hover-bg-color: #E2EBFA;\n",
              "      --hover-fill-color: #174EA6;\n",
              "      --disabled-fill-color: #AAA;\n",
              "      --disabled-bg-color: #DDD;\n",
              "  }\n",
              "\n",
              "  [theme=dark] .colab-df-quickchart {\n",
              "      --bg-color: #3B4455;\n",
              "      --fill-color: #D2E3FC;\n",
              "      --hover-bg-color: #434B5C;\n",
              "      --hover-fill-color: #FFFFFF;\n",
              "      --disabled-bg-color: #3B4455;\n",
              "      --disabled-fill-color: #666;\n",
              "  }\n",
              "\n",
              "  .colab-df-quickchart {\n",
              "    background-color: var(--bg-color);\n",
              "    border: none;\n",
              "    border-radius: 50%;\n",
              "    cursor: pointer;\n",
              "    display: none;\n",
              "    fill: var(--fill-color);\n",
              "    height: 32px;\n",
              "    padding: 0;\n",
              "    width: 32px;\n",
              "  }\n",
              "\n",
              "  .colab-df-quickchart:hover {\n",
              "    background-color: var(--hover-bg-color);\n",
              "    box-shadow: 0 1px 2px rgba(60, 64, 67, 0.3), 0 1px 3px 1px rgba(60, 64, 67, 0.15);\n",
              "    fill: var(--button-hover-fill-color);\n",
              "  }\n",
              "\n",
              "  .colab-df-quickchart-complete:disabled,\n",
              "  .colab-df-quickchart-complete:disabled:hover {\n",
              "    background-color: var(--disabled-bg-color);\n",
              "    fill: var(--disabled-fill-color);\n",
              "    box-shadow: none;\n",
              "  }\n",
              "\n",
              "  .colab-df-spinner {\n",
              "    border: 2px solid var(--fill-color);\n",
              "    border-color: transparent;\n",
              "    border-bottom-color: var(--fill-color);\n",
              "    animation:\n",
              "      spin 1s steps(1) infinite;\n",
              "  }\n",
              "\n",
              "  @keyframes spin {\n",
              "    0% {\n",
              "      border-color: transparent;\n",
              "      border-bottom-color: var(--fill-color);\n",
              "      border-left-color: var(--fill-color);\n",
              "    }\n",
              "    20% {\n",
              "      border-color: transparent;\n",
              "      border-left-color: var(--fill-color);\n",
              "      border-top-color: var(--fill-color);\n",
              "    }\n",
              "    30% {\n",
              "      border-color: transparent;\n",
              "      border-left-color: var(--fill-color);\n",
              "      border-top-color: var(--fill-color);\n",
              "      border-right-color: var(--fill-color);\n",
              "    }\n",
              "    40% {\n",
              "      border-color: transparent;\n",
              "      border-right-color: var(--fill-color);\n",
              "      border-top-color: var(--fill-color);\n",
              "    }\n",
              "    60% {\n",
              "      border-color: transparent;\n",
              "      border-right-color: var(--fill-color);\n",
              "    }\n",
              "    80% {\n",
              "      border-color: transparent;\n",
              "      border-right-color: var(--fill-color);\n",
              "      border-bottom-color: var(--fill-color);\n",
              "    }\n",
              "    90% {\n",
              "      border-color: transparent;\n",
              "      border-bottom-color: var(--fill-color);\n",
              "    }\n",
              "  }\n",
              "</style>\n",
              "\n",
              "  <script>\n",
              "    async function quickchart(key) {\n",
              "      const quickchartButtonEl =\n",
              "        document.querySelector('#' + key + ' button');\n",
              "      quickchartButtonEl.disabled = true;  // To prevent multiple clicks.\n",
              "      quickchartButtonEl.classList.add('colab-df-spinner');\n",
              "      try {\n",
              "        const charts = await google.colab.kernel.invokeFunction(\n",
              "            'suggestCharts', [key], {});\n",
              "      } catch (error) {\n",
              "        console.error('Error during call to suggestCharts:', error);\n",
              "      }\n",
              "      quickchartButtonEl.classList.remove('colab-df-spinner');\n",
              "      quickchartButtonEl.classList.add('colab-df-quickchart-complete');\n",
              "    }\n",
              "    (() => {\n",
              "      let quickchartButtonEl =\n",
              "        document.querySelector('#df-fb030539-c03f-4776-bd02-551a6493513d button');\n",
              "      quickchartButtonEl.style.display =\n",
              "        google.colab.kernel.accessAllowed ? 'block' : 'none';\n",
              "    })();\n",
              "  </script>\n",
              "</div>\n",
              "    </div>\n",
              "  </div>\n"
            ],
            "text/plain": [
              "               Age  Cholesterol   Heart Rate     Diabetes  Family History  \\\n",
              "count  8763.000000  8763.000000  8763.000000  8763.000000     8763.000000   \n",
              "mean     53.707977   259.877211    75.021682     0.652288        0.492982   \n",
              "std      21.249509    80.863276    20.550948     0.476271        0.499979   \n",
              "min      18.000000   120.000000    40.000000     0.000000        0.000000   \n",
              "25%      35.000000   192.000000    57.000000     0.000000        0.000000   \n",
              "50%      54.000000   259.000000    75.000000     1.000000        0.000000   \n",
              "75%      72.000000   330.000000    93.000000     1.000000        1.000000   \n",
              "max      90.000000   400.000000   110.000000     1.000000        1.000000   \n",
              "\n",
              "           Smoking      Obesity  Alcohol Consumption  Exercise Hours Per Week  \\\n",
              "count  8763.000000  8763.000000          8763.000000              8763.000000   \n",
              "mean      0.896839     0.501426             0.598083                10.014284   \n",
              "std       0.304186     0.500026             0.490313                 5.783745   \n",
              "min       0.000000     0.000000             0.000000                 0.002442   \n",
              "25%       1.000000     0.000000             0.000000                 4.981579   \n",
              "50%       1.000000     1.000000             1.000000                10.069559   \n",
              "75%       1.000000     1.000000             1.000000                15.050018   \n",
              "max       1.000000     1.000000             1.000000                19.998709   \n",
              "\n",
              "       Previous Heart Problems  Medication Use  Stress Level  \\\n",
              "count              8763.000000     8763.000000   8763.000000   \n",
              "mean                  0.495835        0.498345      5.469702   \n",
              "std                   0.500011        0.500026      2.859622   \n",
              "min                   0.000000        0.000000      1.000000   \n",
              "25%                   0.000000        0.000000      3.000000   \n",
              "50%                   0.000000        0.000000      5.000000   \n",
              "75%                   1.000000        1.000000      8.000000   \n",
              "max                   1.000000        1.000000     10.000000   \n",
              "\n",
              "       Sedentary Hours Per Day         Income          BMI  Triglycerides  \\\n",
              "count              8763.000000    8763.000000  8763.000000    8763.000000   \n",
              "mean                  5.993690  158263.181901    28.891446     417.677051   \n",
              "std                   3.466359   80575.190806     6.319181     223.748137   \n",
              "min                   0.001263   20062.000000    18.002337      30.000000   \n",
              "25%                   2.998794   88310.000000    23.422985     225.500000   \n",
              "50%                   5.933622  157866.000000    28.768999     417.000000   \n",
              "75%                   9.019124  227749.000000    34.324594     612.000000   \n",
              "max                  11.999313  299954.000000    39.997211     800.000000   \n",
              "\n",
              "       Physical Activity Days Per Week  Sleep Hours Per Day  Heart Attack Risk  \n",
              "count                      8763.000000          8763.000000        8763.000000  \n",
              "mean                          3.489672             7.023508           0.358211  \n",
              "std                           2.282687             1.988473           0.479502  \n",
              "min                           0.000000             4.000000           0.000000  \n",
              "25%                           2.000000             5.000000           0.000000  \n",
              "50%                           3.000000             7.000000           0.000000  \n",
              "75%                           5.000000             9.000000           1.000000  \n",
              "max                           7.000000            10.000000           1.000000  "
            ]
          },
          "execution_count": 60,
          "metadata": {},
          "output_type": "execute_result"
        }
      ],
      "source": [
        "# Descrevendo o dataset\n",
        "\n",
        "dados.describe()"
      ]
    },
    {
      "cell_type": "code",
      "execution_count": 61,
      "metadata": {
        "colab": {
          "base_uri": "https://localhost:8080/"
        },
        "id": "0vNfMHYgEbLO",
        "outputId": "cf246cbd-2317-4cca-8698-8df71a4729ce"
      },
      "outputs": [
        {
          "data": {
            "text/plain": [
              "0       0\n",
              "1       0\n",
              "2       0\n",
              "3       0\n",
              "4       0\n",
              "       ..\n",
              "8758    0\n",
              "8759    0\n",
              "8760    1\n",
              "8761    0\n",
              "8762    1\n",
              "Name: Heart Attack Risk, Length: 8763, dtype: int64"
            ]
          },
          "execution_count": 61,
          "metadata": {},
          "output_type": "execute_result"
        }
      ],
      "source": [
        "# Descrição de uma coluna em específica (ex: Risco de ataque cardíaco)\n",
        "\n",
        "dados['Heart Attack Risk']"
      ]
    },
    {
      "cell_type": "code",
      "execution_count": 62,
      "metadata": {
        "id": "rjzC0mGqHaWk"
      },
      "outputs": [],
      "source": [
        "# Removendo colunas que não contribuem para a previsão do risco de ataque cardíaco\n",
        "colunas_a_remover = ['Patient ID', 'Country', 'Continent', 'Hemisphere', 'Income']\n",
        "dados_limpos = dados.drop(colunas_a_remover, axis=1)"
      ]
    },
    {
      "cell_type": "code",
      "execution_count": 63,
      "metadata": {
        "id": "vXdBR_sqHb-k"
      },
      "outputs": [],
      "source": [
        "# Agora, convertendo 'Sex' e 'Diet' para valores numéricos\n",
        "dados_limpos['Sex'] = dados_limpos['Sex'].map({'Male': 1, 'Female': 0})\n",
        "dados_limpos = pd.get_dummies(dados_limpos, columns=['Diet'])\n",
        "\n",
        "# Usando o Label Encoder para converter colunas categóricas em numéricas\n",
        "label_encoder = LabelEncoder()\n",
        "y = label_encoder.fit_transform(y)"
      ]
    },
    {
      "cell_type": "code",
      "execution_count": 64,
      "metadata": {
        "id": "si2WWBn2HlAl"
      },
      "outputs": [],
      "source": [
        "# Separando a pressão arterial em sistólica e diastólica\n",
        "dados_limpos[['Blood Pressure Systolic', 'Blood Pressure Diastolic']] = dados_limpos['Blood Pressure'].str.split('/', expand=True).astype(float)\n",
        "dados_limpos = dados_limpos.drop('Blood Pressure', axis=1)"
      ]
    },
    {
      "cell_type": "markdown",
      "metadata": {
        "id": "EdsbOU4cz-01"
      },
      "source": []
    },
    {
      "cell_type": "code",
      "execution_count": 65,
      "metadata": {
        "id": "Mwus91xZH4K-"
      },
      "outputs": [],
      "source": [
        "# Seleção das features\n",
        "\n",
        "X = dados_limpos.drop('Heart Attack Risk', axis=1)\n",
        "\n",
        "# Dados da coluna target\n",
        "y = dados_limpos['Heart Attack Risk']"
      ]
    },
    {
      "cell_type": "code",
      "execution_count": 66,
      "metadata": {
        "colab": {
          "base_uri": "https://localhost:8080/"
        },
        "id": "uJLTCgUcEgOw",
        "outputId": "182ead1c-5dc3-406f-e9f3-5b87c04f57ef"
      },
      "outputs": [
        {
          "data": {
            "text/plain": [
              "0       0\n",
              "1       0\n",
              "2       0\n",
              "3       0\n",
              "4       0\n",
              "       ..\n",
              "8758    0\n",
              "8759    0\n",
              "8760    1\n",
              "8761    0\n",
              "8762    1\n",
              "Name: Heart Attack Risk, Length: 8763, dtype: int64"
            ]
          },
          "execution_count": 66,
          "metadata": {},
          "output_type": "execute_result"
        }
      ],
      "source": [
        "# Testando a variável \"target\"\n",
        "y"
      ]
    },
    {
      "cell_type": "code",
      "execution_count": 67,
      "metadata": {
        "colab": {
          "base_uri": "https://localhost:8080/"
        },
        "id": "NAI1nGszILhS",
        "outputId": "0e2c531f-8723-4fa3-a03a-d8c3028422ed"
      },
      "outputs": [
        {
          "data": {
            "text/plain": [
              "(8763, 23)"
            ]
          },
          "execution_count": 67,
          "metadata": {},
          "output_type": "execute_result"
        }
      ],
      "source": [
        "# Verificando o formato de \"x\"\n",
        "\n",
        "X.shape"
      ]
    },
    {
      "cell_type": "code",
      "execution_count": 68,
      "metadata": {
        "colab": {
          "base_uri": "https://localhost:8080/"
        },
        "id": "-raxEiutItCO",
        "outputId": "fb5a19c7-f1e6-4e41-8d20-6dcd74e2b1ff"
      },
      "outputs": [
        {
          "data": {
            "text/plain": [
              "(8763,)"
            ]
          },
          "execution_count": 68,
          "metadata": {},
          "output_type": "execute_result"
        }
      ],
      "source": [
        "# Verificando o formato de \"x\"\n",
        "\n",
        "y.shape"
      ]
    },
    {
      "cell_type": "code",
      "execution_count": 69,
      "metadata": {
        "id": "gSlYDCqWI080"
      },
      "outputs": [],
      "source": [
        "# Separação de dados de treino e teste\n",
        "X_train, X_test, y_train, y_test = train_test_split(X, y, test_size=0.2, random_state=22)"
      ]
    },
    {
      "cell_type": "code",
      "execution_count": 70,
      "metadata": {
        "colab": {
          "base_uri": "https://localhost:8080/"
        },
        "id": "5VLok0qRyB9o",
        "outputId": "0a2ecc8e-52f0-4f45-f7f1-3d431366c8f9"
      },
      "outputs": [
        {
          "name": "stdout",
          "output_type": "stream",
          "text": [
            "(1753,)\n"
          ]
        }
      ],
      "source": [
        "print(y_test.shape)"
      ]
    },
    {
      "cell_type": "code",
      "execution_count": 71,
      "metadata": {
        "id": "Afri_9wNvODW"
      },
      "outputs": [],
      "source": [
        "from sklearn.preprocessing import StandardScaler\n",
        "\n",
        "# Criação do objeto StandardScaler\n",
        "scaler = StandardScaler()\n",
        "\n",
        "# Ajuste nos dados de treinamento\n",
        "X_train_scaled = scaler.fit_transform(X_train)\n",
        "\n",
        "# Transformação dos dados de teste\n",
        "X_test_scaled = scaler.transform(X_test)"
      ]
    },
    {
      "cell_type": "code",
      "execution_count": 72,
      "metadata": {
        "colab": {
          "base_uri": "https://localhost:8080/"
        },
        "id": "zpAa9uSAI4Lq",
        "outputId": "0f073396-ad45-435d-b3ce-25027987c5f0"
      },
      "outputs": [
        {
          "data": {
            "text/plain": [
              "(7010, 23)"
            ]
          },
          "execution_count": 72,
          "metadata": {},
          "output_type": "execute_result"
        }
      ],
      "source": [
        "# Verificando o formato de \"X train\"\n",
        "\n",
        "X_train_scaled.shape"
      ]
    },
    {
      "cell_type": "code",
      "execution_count": 73,
      "metadata": {
        "colab": {
          "base_uri": "https://localhost:8080/"
        },
        "id": "RFAqqfjDI5do",
        "outputId": "b491feac-11d6-4dfd-ee0f-98e9bf3396ee"
      },
      "outputs": [
        {
          "data": {
            "text/plain": [
              "(1753, 23)"
            ]
          },
          "execution_count": 73,
          "metadata": {},
          "output_type": "execute_result"
        }
      ],
      "source": [
        "# Verificando o formato de \"Y train\"\n",
        "\n",
        "X_test_scaled.shape\n"
      ]
    },
    {
      "cell_type": "markdown",
      "metadata": {
        "id": "L1IagYR7Jtgb"
      },
      "source": [
        "### Construção do modelo"
      ]
    },
    {
      "cell_type": "code",
      "execution_count": 74,
      "metadata": {
        "id": "Fqpz7PEzoru0"
      },
      "outputs": [],
      "source": [
        "# Construindo o modelo\n",
        "#my_nn = Sequential()\n",
        "#my_nn.add(Dense(16, input_dim=X_train.shape[1], activation='relu'))  # Ajuste para usar X_train.shape[1] no lugar de X.shape[1]\n",
        "#my_nn.add(Dense(8, activation='relu'))\n",
        "#my_nn.add(Dense(1, activation='sigmoid'))\n",
        "\n",
        "\n",
        "\n",
        "my_nn = Sequential()\n",
        "my_nn.add(Dense(32, input_dim=X_train_scaled.shape[1], activation='relu'))\n",
        "my_nn.add(Dropout(0.9))\n",
        "my_nn.add(Dense(16, activation='relu'))\n",
        "my_nn.add(Dense(1, activation='sigmoid'))"
      ]
    },
    {
      "cell_type": "code",
      "execution_count": 75,
      "metadata": {
        "id": "mR6yx70KJwth"
      },
      "outputs": [],
      "source": [
        "# Compilar o modelo\n",
        "my_nn.compile(loss='binary_crossentropy', optimizer='adam', metrics=['accuracy'])"
      ]
    },
    {
      "cell_type": "code",
      "execution_count": 76,
      "metadata": {
        "colab": {
          "base_uri": "https://localhost:8080/"
        },
        "id": "liNGgPMVv_cN",
        "outputId": "c3541599-0e84-4c99-d80e-16834fe5c1a4"
      },
      "outputs": [
        {
          "name": "stdout",
          "output_type": "stream",
          "text": [
            "Epoch 1/10\n",
            "3505/3505 [==============================] - 15s 4ms/step - loss: 0.6916 - accuracy: 0.6257 - val_loss: 0.6610 - val_accuracy: 0.6343\n",
            "Epoch 2/10\n",
            "3505/3505 [==============================] - 9s 3ms/step - loss: 0.6615 - accuracy: 0.6357 - val_loss: 0.6608 - val_accuracy: 0.6343\n",
            "Epoch 3/10\n",
            "3505/3505 [==============================] - 11s 3ms/step - loss: 0.6578 - accuracy: 0.6397 - val_loss: 0.6580 - val_accuracy: 0.6343\n",
            "Epoch 4/10\n",
            "3505/3505 [==============================] - 11s 3ms/step - loss: 0.6556 - accuracy: 0.6414 - val_loss: 0.6585 - val_accuracy: 0.6343\n",
            "Epoch 5/10\n",
            "3505/3505 [==============================] - 11s 3ms/step - loss: 0.6546 - accuracy: 0.6432 - val_loss: 0.6573 - val_accuracy: 0.6343\n",
            "Epoch 6/10\n",
            "3505/3505 [==============================] - 10s 3ms/step - loss: 0.6538 - accuracy: 0.6439 - val_loss: 0.6566 - val_accuracy: 0.6343\n",
            "Epoch 7/10\n",
            "3505/3505 [==============================] - 11s 3ms/step - loss: 0.6528 - accuracy: 0.6439 - val_loss: 0.6569 - val_accuracy: 0.6343\n",
            "Epoch 8/10\n",
            "3505/3505 [==============================] - 11s 3ms/step - loss: 0.6525 - accuracy: 0.6439 - val_loss: 0.6566 - val_accuracy: 0.6343\n",
            "Epoch 9/10\n",
            "3505/3505 [==============================] - 10s 3ms/step - loss: 0.6528 - accuracy: 0.6437 - val_loss: 0.6569 - val_accuracy: 0.6343\n",
            "Epoch 10/10\n",
            "3505/3505 [==============================] - 10s 3ms/step - loss: 0.6522 - accuracy: 0.6431 - val_loss: 0.6565 - val_accuracy: 0.6343\n"
          ]
        }
      ],
      "source": [
        "# Treinamento do modelo\n",
        "history = my_nn.fit(X_train_scaled, y_train, epochs=10, batch_size=2, validation_data=(X_test_scaled, y_test))"
      ]
    },
    {
      "cell_type": "markdown",
      "metadata": {
        "id": "e-ClKw12qUtS"
      },
      "source": [
        "### Avaliando o modelo"
      ]
    },
    {
      "cell_type": "code",
      "execution_count": 77,
      "metadata": {
        "colab": {
          "base_uri": "https://localhost:8080/"
        },
        "id": "i-EDBWpiJ0wN",
        "outputId": "08489780-0d42-45ca-838a-1af27a713ab9"
      },
      "outputs": [
        {
          "name": "stdout",
          "output_type": "stream",
          "text": [
            "55/55 [==============================] - 0s 3ms/step - loss: 0.6565 - accuracy: 0.6343\n",
            "Perda do modelo: 0.6565\n",
            "Acurácia do modelo: 63.43%\n"
          ]
        }
      ],
      "source": [
        "# Avaliando o modelo:\n",
        "loss, accuracy = my_nn.evaluate(X_test_scaled, y_test)\n",
        "print(f'Perda do modelo: {loss:.4f}')\n",
        "print(f'Acurácia do modelo: {accuracy * 100:.2f}%')"
      ]
    },
    {
      "cell_type": "markdown",
      "metadata": {
        "id": "YCnBEvnnqcDB"
      },
      "source": [
        "### Métricas"
      ]
    },
    {
      "cell_type": "code",
      "execution_count": 79,
      "metadata": {
        "id": "0le6jWaAqeSU"
      },
      "outputs": [],
      "source": [
        "# Compilar o modelo com métricas adicionais\n",
        "my_nn.compile(loss='binary_crossentropy', optimizer='adam', metrics=['accuracy', 'Precision', 'Recall'])\n"
      ]
    },
    {
      "cell_type": "markdown",
      "metadata": {
        "id": "QoeVDEpJJ506"
      },
      "source": [
        "### Fazendo previsões:\n"
      ]
    },
    {
      "cell_type": "code",
      "execution_count": 80,
      "metadata": {
        "id": "ufealVPWJ9d8"
      },
      "outputs": [],
      "source": [
        "# Selecionando uma amostra aleatória do conjunto de teste para previsão\n",
        "amostra1 = X_test.sample().to_numpy()"
      ]
    },
    {
      "cell_type": "code",
      "execution_count": 81,
      "metadata": {
        "colab": {
          "base_uri": "https://localhost:8080/"
        },
        "id": "3QEPzOvUKBsx",
        "outputId": "655f15b7-2209-48cf-d241-10e6fd4abb13"
      },
      "outputs": [
        {
          "name": "stdout",
          "output_type": "stream",
          "text": [
            "1/1 [==============================] - 0s 62ms/step\n"
          ]
        }
      ],
      "source": [
        "# Fazendo a predição com o modelo treinado\n",
        "predicao = my_nn.predict(amostra1)\n"
      ]
    },
    {
      "cell_type": "code",
      "execution_count": 82,
      "metadata": {
        "colab": {
          "base_uri": "https://localhost:8080/"
        },
        "id": "RXUsIw7zKE11",
        "outputId": "7d5afeb9-7e7e-4e1e-87a1-db27cb43cecb"
      },
      "outputs": [
        {
          "name": "stdout",
          "output_type": "stream",
          "text": [
            "Previsão: 0.13310520350933075\n",
            "Diagnóstico: Baixo risco de ataque cardíaco\n"
          ]
        }
      ],
      "source": [
        "# Mostrando a previsão\n",
        "print(f'Previsão: {predicao[0][0]}')  # Ajustado para mostrar o valor da previsão\n",
        "if predicao[0][0] > 0.5:  # Ajustado para acessar o primeiro elemento da previsão\n",
        "    print('Diagnóstico: Alto risco de ataque cardíaco')\n",
        "else:\n",
        "    print('Diagnóstico: Baixo risco de ataque cardíaco')"
      ]
    },
    {
      "cell_type": "markdown",
      "metadata": {
        "id": "htyCd_uMrk5K"
      },
      "source": [
        "### Utilizando um classificador de algoritmo comum a fim de comparar a acurácia com redes neurais nessa situação (KNN)"
      ]
    },
    {
      "cell_type": "code",
      "execution_count": 83,
      "metadata": {
        "id": "s4e5IRzYr0wu"
      },
      "outputs": [],
      "source": [
        "# Importando o classificador KNN\n",
        "from sklearn.neighbors import KNeighborsClassifier\n",
        "\n",
        "# Configurando o KNN\n",
        "knn = KNeighborsClassifier(n_neighbors=22)"
      ]
    },
    {
      "cell_type": "code",
      "execution_count": 84,
      "metadata": {
        "colab": {
          "base_uri": "https://localhost:8080/",
          "height": 75
        },
        "id": "-UNJPkUEr7PV",
        "outputId": "4a533935-52af-4ef1-c70a-95743224440e"
      },
      "outputs": [
        {
          "data": {
            "text/html": [
              "<style>#sk-container-id-2 {color: black;background-color: white;}#sk-container-id-2 pre{padding: 0;}#sk-container-id-2 div.sk-toggleable {background-color: white;}#sk-container-id-2 label.sk-toggleable__label {cursor: pointer;display: block;width: 100%;margin-bottom: 0;padding: 0.3em;box-sizing: border-box;text-align: center;}#sk-container-id-2 label.sk-toggleable__label-arrow:before {content: \"▸\";float: left;margin-right: 0.25em;color: #696969;}#sk-container-id-2 label.sk-toggleable__label-arrow:hover:before {color: black;}#sk-container-id-2 div.sk-estimator:hover label.sk-toggleable__label-arrow:before {color: black;}#sk-container-id-2 div.sk-toggleable__content {max-height: 0;max-width: 0;overflow: hidden;text-align: left;background-color: #f0f8ff;}#sk-container-id-2 div.sk-toggleable__content pre {margin: 0.2em;color: black;border-radius: 0.25em;background-color: #f0f8ff;}#sk-container-id-2 input.sk-toggleable__control:checked~div.sk-toggleable__content {max-height: 200px;max-width: 100%;overflow: auto;}#sk-container-id-2 input.sk-toggleable__control:checked~label.sk-toggleable__label-arrow:before {content: \"▾\";}#sk-container-id-2 div.sk-estimator input.sk-toggleable__control:checked~label.sk-toggleable__label {background-color: #d4ebff;}#sk-container-id-2 div.sk-label input.sk-toggleable__control:checked~label.sk-toggleable__label {background-color: #d4ebff;}#sk-container-id-2 input.sk-hidden--visually {border: 0;clip: rect(1px 1px 1px 1px);clip: rect(1px, 1px, 1px, 1px);height: 1px;margin: -1px;overflow: hidden;padding: 0;position: absolute;width: 1px;}#sk-container-id-2 div.sk-estimator {font-family: monospace;background-color: #f0f8ff;border: 1px dotted black;border-radius: 0.25em;box-sizing: border-box;margin-bottom: 0.5em;}#sk-container-id-2 div.sk-estimator:hover {background-color: #d4ebff;}#sk-container-id-2 div.sk-parallel-item::after {content: \"\";width: 100%;border-bottom: 1px solid gray;flex-grow: 1;}#sk-container-id-2 div.sk-label:hover label.sk-toggleable__label {background-color: #d4ebff;}#sk-container-id-2 div.sk-serial::before {content: \"\";position: absolute;border-left: 1px solid gray;box-sizing: border-box;top: 0;bottom: 0;left: 50%;z-index: 0;}#sk-container-id-2 div.sk-serial {display: flex;flex-direction: column;align-items: center;background-color: white;padding-right: 0.2em;padding-left: 0.2em;position: relative;}#sk-container-id-2 div.sk-item {position: relative;z-index: 1;}#sk-container-id-2 div.sk-parallel {display: flex;align-items: stretch;justify-content: center;background-color: white;position: relative;}#sk-container-id-2 div.sk-item::before, #sk-container-id-2 div.sk-parallel-item::before {content: \"\";position: absolute;border-left: 1px solid gray;box-sizing: border-box;top: 0;bottom: 0;left: 50%;z-index: -1;}#sk-container-id-2 div.sk-parallel-item {display: flex;flex-direction: column;z-index: 1;position: relative;background-color: white;}#sk-container-id-2 div.sk-parallel-item:first-child::after {align-self: flex-end;width: 50%;}#sk-container-id-2 div.sk-parallel-item:last-child::after {align-self: flex-start;width: 50%;}#sk-container-id-2 div.sk-parallel-item:only-child::after {width: 0;}#sk-container-id-2 div.sk-dashed-wrapped {border: 1px dashed gray;margin: 0 0.4em 0.5em 0.4em;box-sizing: border-box;padding-bottom: 0.4em;background-color: white;}#sk-container-id-2 div.sk-label label {font-family: monospace;font-weight: bold;display: inline-block;line-height: 1.2em;}#sk-container-id-2 div.sk-label-container {text-align: center;}#sk-container-id-2 div.sk-container {/* jupyter's `normalize.less` sets `[hidden] { display: none; }` but bootstrap.min.css set `[hidden] { display: none !important; }` so we also need the `!important` here to be able to override the default hidden behavior on the sphinx rendered scikit-learn.org. See: https://github.com/scikit-learn/scikit-learn/issues/21755 */display: inline-block !important;position: relative;}#sk-container-id-2 div.sk-text-repr-fallback {display: none;}</style><div id=\"sk-container-id-2\" class=\"sk-top-container\"><div class=\"sk-text-repr-fallback\"><pre>KNeighborsClassifier(n_neighbors=22)</pre><b>In a Jupyter environment, please rerun this cell to show the HTML representation or trust the notebook. <br />On GitHub, the HTML representation is unable to render, please try loading this page with nbviewer.org.</b></div><div class=\"sk-container\" hidden><div class=\"sk-item\"><div class=\"sk-estimator sk-toggleable\"><input class=\"sk-toggleable__control sk-hidden--visually\" id=\"sk-estimator-id-2\" type=\"checkbox\" checked><label for=\"sk-estimator-id-2\" class=\"sk-toggleable__label sk-toggleable__label-arrow\">KNeighborsClassifier</label><div class=\"sk-toggleable__content\"><pre>KNeighborsClassifier(n_neighbors=22)</pre></div></div></div></div></div>"
            ],
            "text/plain": [
              "KNeighborsClassifier(n_neighbors=22)"
            ]
          },
          "execution_count": 84,
          "metadata": {},
          "output_type": "execute_result"
        }
      ],
      "source": [
        "# Treinando o KNN\n",
        "knn.fit(X_train, y_train)"
      ]
    },
    {
      "cell_type": "code",
      "execution_count": 85,
      "metadata": {
        "id": "tyM5qNDbr84Q"
      },
      "outputs": [],
      "source": [
        "# Fazendo previsões\n",
        "y_pred_knn = knn.predict(X_test)"
      ]
    },
    {
      "cell_type": "code",
      "execution_count": 86,
      "metadata": {
        "colab": {
          "base_uri": "https://localhost:8080/"
        },
        "id": "9Ean3GuAr-Oc",
        "outputId": "f6a47679-baf7-408e-f33a-0c2c8c9e113c"
      },
      "outputs": [
        {
          "name": "stdout",
          "output_type": "stream",
          "text": [
            "Acurácia do KNN: 60.75%\n"
          ]
        }
      ],
      "source": [
        "# Avaliando o modelo KNN\n",
        "from sklearn.metrics import accuracy_score\n",
        "accuracy_knn = accuracy_score(y_test, y_pred_knn)\n",
        "print(f'Acurácia do KNN: {accuracy_knn * 100:.2f}%')"
      ]
    },
    {
      "cell_type": "markdown",
      "metadata": {
        "id": "dD3KozmHsDyT"
      },
      "source": [
        "### Gráficos - Outra forma que escolhemos de facilitar a compreensão da comparação dos modelos."
      ]
    },
    {
      "cell_type": "code",
      "execution_count": 87,
      "metadata": {
        "colab": {
          "base_uri": "https://localhost:8080/",
          "height": 472
        },
        "id": "DBX_Y248sM-e",
        "outputId": "e624001b-3066-447d-b351-e7fe30a882ae"
      },
      "outputs": [
        {
          "data": {
            "image/png": "[encoded data removed]",
            "text/plain": [
              "<Figure size 640x480 with 1 Axes>"
            ]
          },
          "metadata": {},
          "output_type": "display_data"
        }
      ],
      "source": [
        "# Comparando a acurácia dos modelos\n",
        "accuracies = [accuracy * 100, accuracy_knn * 100]\n",
        "models = ['Rede Neural', 'KNN']\n",
        "\n",
        "plt.bar(models, accuracies, color=['blue', 'green'])\n",
        "plt.xlabel('Modelos')\n",
        "plt.ylabel('Acurácia (%)')\n",
        "plt.title('Comparação da Acurácia dos Modelos')\n",
        "plt.show()"
      ]
    },
    {
      "cell_type": "code",
      "execution_count": 91,
      "metadata": {
        "colab": {
          "base_uri": "https://localhost:8080/",
          "height": 472
        },
        "id": "6MiP8KVTsezW",
        "outputId": "2d1dc250-8fd5-4cc8-a4b2-f8fbae16ef41"
      },
      "outputs": [
        {
          "data": {
            "image/png": "[encoded data removed]",
            "text/plain": [
              "<Figure size 640x480 with 2 Axes>"
            ]
          },
          "metadata": {},
          "output_type": "display_data"
        }
      ],
      "source": [
        "from sklearn.metrics import confusion_matrix\n",
        "import seaborn as sns\n",
        "\n",
        "# Calculando a matriz de confusão\n",
        "cm = confusion_matrix(y_test, y_pred_knn)\n",
        "\n",
        "# Plotando a matriz de confusão\n",
        "sns.heatmap(cm, annot=True, fmt='d', cmap='Blues')\n",
        "plt.title('Matriz de Confusão')\n",
        "plt.xlabel('Predito')\n",
        "plt.ylabel('Verdadeiro')\n",
        "plt.show()\n"
      ]
    },
    {
      "cell_type": "markdown",
      "metadata": {
        "id": "6JeXPEWuzNid"
      },
      "source": [
        "# Análise do Processo e do Modelo de Redes Neurais\n",
        "\n",
        "\n",
        "\n",
        "* Preparação dos Dados: Carreguei inspecionou o conjunto de dados, que inclui uma variedade de fatores relacionados à saúde e estilo de vida, relevantes para a previsão do risco de ataque cardíaco.\n",
        "Realizei a limpeza e pré-processamento dos dados, incluindo a remoção de colunas não informativas, a conversão de dados categóricos para numéricos e a separação dos dados em características (features) e variável alvo (target).\n",
        "\n",
        "* Construção do Modelo de Redes Neurais: Defini um modelo de rede neural utilizando o Keras, com camadas densas e uma camada de dropout para reduzir o overfitting. A função de ativação 'relu' foi utilizada nas camadas intermediárias, e 'sigmoid' na camada de saída, adequada para a classificação binária. O modelo foi compilado com a função de perda 'binary_crossentropy' e o otimizador 'adam'.\n",
        "\n",
        "* Treinamento e Avaliação: O modelo foi treinado com os dados de treino, e a avaliação mostrou uma acurácia de aproximadamente 63.43% no conjunto de teste. Foi utilizada a técnica de validação durante o treinamento para monitorar a performance do modelo nos dados de teste.\n",
        "\n",
        "\n",
        "# Análise do Modelo KNN\n",
        "\n",
        "* Explicação: O modelo KNN foi implementado como um classificador alternativo para comparação.\n",
        "Foi treinado com os mesmos dados de treino e testado com o conjunto de teste, alcançando uma acurácia de 60.75%.\n",
        "\n",
        "# Considerações Finais\n",
        "\n",
        "* Performance dos Modelos: Ambos os modelos apresentaram uma acurácia superior a 60%, com a rede neural ligeiramente à frente. Esses resultados são moderados, sugerindo que os modelos têm algum poder preditivo, mas também espaço para melhorias.\n",
        "\n",
        "\n",
        "* Complexidade do Problema: Dada a natureza complexa e multifatorial do risco de ataque cardíaco, é desafiador para qualquer modelo alcançar acurácias extremamente altas. Isso é especialmente verdadeiro se considerarmos as limitações dos dados e a possibilidade de haver fatores influentes que não estão incluídos no conjunto de dados.\n",
        "\n",
        "* Possíveis Melhorias: Aumento da Qualidade dos Dados: Mais dados, especialmente características adicionais que são fortes indicadores de risco de ataque cardíaco, podem ajudar a melhorar a acurácia.\n",
        "\n"
      ]
    },
    {
      "cell_type": "markdown",
      "metadata": {
        "id": "eS5mV47CzQMH"
      },
      "source": [
        "# Conclusão:\n",
        "\n",
        "Os modelos fornecem uma base sólida para a modelagem de risco de ataque cardíaco utilizando machine learning. Os resultados indicam que há um potencial significativo nos modelos utilizados, mas também destaca a necessidade de refinamentos adicionais para melhorar a precisão das previsões. Continuar a explorar e aprimorar o modelo com foco na qualidade dos dados e no ajuste fino da modelagem é um caminho promissor a seguir.\n"
      ]
    },
    {
      "cell_type": "code",
      "execution_count": null,
      "metadata": {
        "id": "s-HRlVDOLyzU"
      },
      "outputs": [],
      "source": []
    }
  ],
  "metadata": {
    "colab": {
      "provenance": []
    },
    "kernelspec": {
      "display_name": "Python 3",
      "name": "python3"
    },
    "language_info": {
      "name": "python"
    }
  },
  "nbformat": 4,
  "nbformat_minor": 0
}
