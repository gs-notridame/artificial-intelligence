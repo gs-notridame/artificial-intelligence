{
  "nbformat": 4,
  "nbformat_minor": 0,
  "metadata": {
    "colab": {
      "provenance": [],
      "collapsed_sections": [
        "atis0AnDoOjr"
      ]
    },
    "kernelspec": {
      "name": "python3",
      "display_name": "Python 3"
    },
    "language_info": {
      "name": "python"
    }
  },
  "cells": [
    {
      "cell_type": "code",
      "execution_count": null,
      "metadata": {
        "id": "TqGxGLETd_B2"
      },
      "outputs": [],
      "source": [
        "# Importando os pacotes:\n",
        "import pandas as pd\n",
        "import numpy as np\n",
        "import matplotlib.pyplot as plt\n",
        "%matplotlib inline\n",
        "\n",
        "from sklearn.cluster import KMeans\n",
        "from sklearn import datasets\n",
        "from sklearn.metrics import silhouette_score\n",
        "\n",
        "import warnings\n",
        "warnings.filterwarnings('ignore')\n"
      ]
    },
    {
      "cell_type": "markdown",
      "source": [
        "# **Analise exploratoria**"
      ],
      "metadata": {
        "id": "atis0AnDoOjr"
      }
    },
    {
      "cell_type": "code",
      "source": [
        "# Carga de dados\n",
        "df = pd.read_csv('/content/sample_data/heart_attack_prediction_dataset.csv')\n",
        "features_for_kmeans = ['Age', 'Cholesterol','Diabetes']\n",
        "\n",
        "# Inicializando a lista de distorções\n",
        "distortions = []\n",
        "\n",
        "# Testando diferentes valores de k\n",
        "K = range(1, 11)\n",
        "\n",
        "for k in K:\n",
        "    kmeanModel = KMeans(n_clusters=k)\n",
        "    kmeanModel.fit(df[features_for_kmeans])\n",
        "    distortions.append(kmeanModel.inertia_)\n",
        "\n",
        "# Plotando o gráfico do Método Elbow\n",
        "plt.figure(figsize=(8, 6))\n",
        "plt.plot(K, distortions, 'bx-')\n",
        "plt.xlabel('Número de Clusters (k)')\n",
        "plt.ylabel('Distorção')\n",
        "plt.title('Método Elbow para Determinar k')\n",
        "plt.show()\n"
      ],
      "metadata": {
        "id": "nPz48K6wjf_Q",
        "colab": {
          "base_uri": "https://localhost:8080/",
          "height": 565
        },
        "outputId": "e4047f66-31fe-44b4-a5b6-cc3505cfadff"
      },
      "execution_count": null,
      "outputs": [
        {
          "output_type": "display_data",
          "data": {
            "text/plain": [
              "<Figure size 800x600 with 1 Axes>"
            ],
            "image/png": "[encoded data removed]"
          },
          "metadata": {}
        }
      ]
    },
    {
      "cell_type": "markdown",
      "source": [
        "***Realização de testes para descobrir o numero Klurters com o maior Silhouette Score***"
      ],
      "metadata": {
        "id": "Z7bJO3vUzVpp"
      }
    },
    {
      "cell_type": "code",
      "source": [
        "# Escolha do número de clusters (k)\n",
        "chosen_k = 4\n",
        "\n",
        "# Treinando o modelo com o número escolhido de clusters\n",
        "kmeanModel = KMeans(n_clusters=chosen_k)\n",
        "kmeanModel.fit(df[features_for_kmeans])\n",
        "\n",
        "# Obtendo os rótulos dos clusters para cada ponto de dados\n",
        "cluster_labels = kmeanModel.labels_\n",
        "\n",
        "# Adicionando os rótulos dos clusters ao DataFrame original\n",
        "df['Cluster'] = cluster_labels\n"
      ],
      "metadata": {
        "id": "jh1J-dcTlC0B"
      },
      "execution_count": null,
      "outputs": []
    },
    {
      "cell_type": "code",
      "source": [
        "# Obtendo os rótulos dos clusters para cada ponto de dados\n",
        "cluster_labels = kmeanModel.labels_\n",
        "# Adicionando os rótulos dos clusters ao DataFrame original\n",
        "df['Cluster'] = cluster_labels"
      ],
      "metadata": {
        "id": "IzhCQrIQlZ-h"
      },
      "execution_count": null,
      "outputs": []
    },
    {
      "cell_type": "code",
      "source": [
        "# Calculando o Silhouette Score para avaliar a qualidade dos clusters\n",
        "silhouette_avg = silhouette_score(df[features_for_kmeans], cluster_labels)\n",
        "print(f\"Silhouette Score para {chosen_k} clusters: {silhouette_avg:.2f}\")\n"
      ],
      "metadata": {
        "colab": {
          "base_uri": "https://localhost:8080/"
        },
        "id": "RmlQmxwHlj0p",
        "outputId": "aea911a0-a370-4847-fff9-94d50c1faf38"
      },
      "execution_count": null,
      "outputs": [
        {
          "output_type": "stream",
          "name": "stdout",
          "text": [
            "Silhouette Score para 4 clusters: 0.42\n"
          ]
        }
      ]
    },
    {
      "cell_type": "code",
      "source": [
        "# Escolha do número de clusters (k)\n",
        "chosen_k = 3\n",
        "kmeanModel = KMeans(n_clusters=chosen_k)\n",
        "kmeanModel.fit(df[features_for_kmeans])\n",
        "cluster_labels = kmeanModel.labels_\n",
        "df['Cluster'] = cluster_labels"
      ],
      "metadata": {
        "id": "DImwtOVoBHYC"
      },
      "execution_count": null,
      "outputs": []
    },
    {
      "cell_type": "code",
      "source": [
        "# Obtendo os rótulos dos clusters para cada ponto de dados\n",
        "cluster_labels = kmeanModel.labels_\n",
        "# Adicionando os rótulos dos clusters ao DataFrame original\n",
        "df['Cluster'] = cluster_labels"
      ],
      "metadata": {
        "id": "dY5KeIE8BRwR"
      },
      "execution_count": null,
      "outputs": []
    },
    {
      "cell_type": "code",
      "source": [
        "# Calculando o Silhouette Score para avaliar a qualidade dos clusters\n",
        "silhouette_avg = silhouette_score(df[features_for_kmeans], cluster_labels)\n",
        "print(f\"Silhouette Score para {chosen_k} clusters: {silhouette_avg:.2f}\")"
      ],
      "metadata": {
        "colab": {
          "base_uri": "https://localhost:8080/"
        },
        "id": "SIsfXdFBBVD6",
        "outputId": "5d166b4e-b13f-47ce-97bf-4d8f19f4caa4"
      },
      "execution_count": null,
      "outputs": [
        {
          "output_type": "stream",
          "name": "stdout",
          "text": [
            "Silhouette Score para 3 clusters: 0.49\n"
          ]
        }
      ]
    },
    {
      "cell_type": "markdown",
      "source": [
        "O Silhouette Score mais alto para 3 clusters (0.49) em comparação com 4 clusters (0.43) indica uma melhor separação entre grupos no primeiro caso. Portanto, a escolha de 3 clusters parece mais apropriada para este conjunto de dados."
      ],
      "metadata": {
        "id": "rlR5A5eOCHLb"
      }
    },
    {
      "cell_type": "code",
      "source": [
        "print(df.describe())\n"
      ],
      "metadata": {
        "id": "btQQMjoEmjME",
        "colab": {
          "base_uri": "https://localhost:8080/"
        },
        "outputId": "624a4aa4-0d10-47d4-9950-6a93718553c8"
      },
      "execution_count": null,
      "outputs": [
        {
          "output_type": "stream",
          "name": "stdout",
          "text": [
            "               Age  Cholesterol   Heart Rate     Diabetes  Family History  \\\n",
            "count  8763.000000  8763.000000  8763.000000  8763.000000     8763.000000   \n",
            "mean     53.707977   259.877211    75.021682     0.652288        0.492982   \n",
            "std      21.249509    80.863276    20.550948     0.476271        0.499979   \n",
            "min      18.000000   120.000000    40.000000     0.000000        0.000000   \n",
            "25%      35.000000   192.000000    57.000000     0.000000        0.000000   \n",
            "50%      54.000000   259.000000    75.000000     1.000000        0.000000   \n",
            "75%      72.000000   330.000000    93.000000     1.000000        1.000000   \n",
            "max      90.000000   400.000000   110.000000     1.000000        1.000000   \n",
            "\n",
            "           Smoking      Obesity  Alcohol Consumption  Exercise Hours Per Week  \\\n",
            "count  8763.000000  8763.000000          8763.000000              8763.000000   \n",
            "mean      0.896839     0.501426             0.598083                10.014284   \n",
            "std       0.304186     0.500026             0.490313                 5.783745   \n",
            "min       0.000000     0.000000             0.000000                 0.002442   \n",
            "25%       1.000000     0.000000             0.000000                 4.981579   \n",
            "50%       1.000000     1.000000             1.000000                10.069559   \n",
            "75%       1.000000     1.000000             1.000000                15.050018   \n",
            "max       1.000000     1.000000             1.000000                19.998709   \n",
            "\n",
            "       Previous Heart Problems  Medication Use  Stress Level  \\\n",
            "count              8763.000000     8763.000000   8763.000000   \n",
            "mean                  0.495835        0.498345      5.469702   \n",
            "std                   0.500011        0.500026      2.859622   \n",
            "min                   0.000000        0.000000      1.000000   \n",
            "25%                   0.000000        0.000000      3.000000   \n",
            "50%                   0.000000        0.000000      5.000000   \n",
            "75%                   1.000000        1.000000      8.000000   \n",
            "max                   1.000000        1.000000     10.000000   \n",
            "\n",
            "       Sedentary Hours Per Day         Income          BMI  Triglycerides  \\\n",
            "count              8763.000000    8763.000000  8763.000000    8763.000000   \n",
            "mean                  5.993690  158263.181901    28.891446     417.677051   \n",
            "std                   3.466359   80575.190806     6.319181     223.748137   \n",
            "min                   0.001263   20062.000000    18.002337      30.000000   \n",
            "25%                   2.998794   88310.000000    23.422985     225.500000   \n",
            "50%                   5.933622  157866.000000    28.768999     417.000000   \n",
            "75%                   9.019124  227749.000000    34.324594     612.000000   \n",
            "max                  11.999313  299954.000000    39.997211     800.000000   \n",
            "\n",
            "       Physical Activity Days Per Week  Sleep Hours Per Day  \\\n",
            "count                      8763.000000          8763.000000   \n",
            "mean                          3.489672             7.023508   \n",
            "std                           2.282687             1.988473   \n",
            "min                           0.000000             4.000000   \n",
            "25%                           2.000000             5.000000   \n",
            "50%                           3.000000             7.000000   \n",
            "75%                           5.000000             9.000000   \n",
            "max                           7.000000            10.000000   \n",
            "\n",
            "       Heart Attack Risk      Cluster  \n",
            "count        8763.000000  8763.000000  \n",
            "mean            0.358211     1.018829  \n",
            "std             0.479502     0.818769  \n",
            "min             0.000000     0.000000  \n",
            "25%             0.000000     0.000000  \n",
            "50%             0.000000     1.000000  \n",
            "75%             1.000000     2.000000  \n",
            "max             1.000000     2.000000  \n"
          ]
        }
      ]
    },
    {
      "cell_type": "code",
      "source": [
        "# Criar gráfico de barras para a coluna 'Age' com rótulos rotacionados\n",
        "plt.figure(figsize=(12, 6))\n",
        "df['Age'].value_counts().sort_index().plot(kind='bar', color='skyblue')\n",
        "plt.title('Distribuição de Idade')\n",
        "plt.xlabel('Idade')\n",
        "plt.ylabel('Contagem')\n",
        "plt.xticks(rotation=45, ha='right')\n",
        "plt.tight_layout()\n",
        "plt.show()"
      ],
      "metadata": {
        "id": "iz9Ql-tTmmBT",
        "colab": {
          "base_uri": "https://localhost:8080/",
          "height": 484
        },
        "outputId": "c4c7e1aa-02a8-4c4b-9db7-8acc88ae3406"
      },
      "execution_count": null,
      "outputs": [
        {
          "output_type": "display_data",
          "data": {
            "text/plain": [
              "<Figure size 1200x600 with 1 Axes>"
            ],
            "image/png": "[encoded data removed]"
          },
          "metadata": {}
        }
      ]
    },
    {
      "cell_type": "code",
      "source": [
        "#O gráfico de barras exibe a distribuição da idade no conjunto de dados, onde cada barra representa uma\n",
        "#faixa etária e a altura reflete a contagem de pessoas nessa faixa."
      ],
      "metadata": {
        "id": "EkiQqT20ue96"
      },
      "execution_count": null,
      "outputs": []
    },
    {
      "cell_type": "code",
      "source": [
        "# Convertendo a coluna 'Cholesterol' para string e criando o gráfico de barras\n",
        "plt.figure(figsize=(12, 6))\n",
        "counts = df['Cholesterol'].astype(str).str.lower().value_counts().sort_index()\n",
        "counts.plot(kind='bar', color='skyblue')\n",
        "\n",
        "# Ajustar rótulos do eixo x\n",
        "step = max(1, len(counts) // 20)\n",
        "plt.xticks(range(0, len(counts), step), counts.index[::step], rotation=0, ha='center')\n",
        "\n",
        "plt.title('Distribuição de Cholesterol')\n",
        "plt.xlabel('Cholesterol')\n",
        "plt.ylabel('Contagem')\n",
        "plt.tight_layout()\n",
        "plt.show()"
      ],
      "metadata": {
        "colab": {
          "base_uri": "https://localhost:8080/",
          "height": 484
        },
        "id": "6KI4ZrPgrt3K",
        "outputId": "6c43b595-5351-4651-c171-4ac651fea993"
      },
      "execution_count": null,
      "outputs": [
        {
          "output_type": "display_data",
          "data": {
            "text/plain": [
              "<Figure size 1200x600 with 1 Axes>"
            ],
            "image/png": "[encoded data removed]"
          },
          "metadata": {}
        }
      ]
    },
    {
      "cell_type": "code",
      "source": [
        "#O gráfico de barras para colesterol ilustra a distribuição dos níveis dessa variável no conjunto de dados.\n",
        "#Cada barra representa uma categoria de colesterol, com a altura indicando a quantidade de pessoas associadas"
      ],
      "metadata": {
        "id": "xxBEzXtRuKRK"
      },
      "execution_count": null,
      "outputs": []
    },
    {
      "cell_type": "code",
      "source": [
        "plt.figure(figsize=(8, 6))\n",
        "df['Diabetes'].astype(str).str.lower().value_counts().sort_index().plot(kind='bar', color='skyblue')\n",
        "plt.title('Distribuição de Diabetes')\n",
        "plt.xlabel('Diabetes')\n",
        "plt.ylabel('Contagem')\n",
        "plt.xticks(rotation=0, ha='center')\n",
        "plt.tight_layout()\n",
        "plt.show()"
      ],
      "metadata": {
        "colab": {
          "base_uri": "https://localhost:8080/",
          "height": 607
        },
        "id": "x6KH9iINsk5t",
        "outputId": "6f5ce2dc-bb4e-4068-a906-23500bc39261"
      },
      "execution_count": null,
      "outputs": [
        {
          "output_type": "display_data",
          "data": {
            "text/plain": [
              "<Figure size 800x600 with 1 Axes>"
            ],
            "image/png": "[encoded data removed]"
          },
          "metadata": {}
        }
      ]
    },
    {
      "cell_type": "code",
      "source": [
        "#O gráfico de barras mostra a contagem de pessoas com e sem diabetes. Cada barra representa uma categoria ('Sim' ou 'Não')\n",
        "#e sua altura indica a quantidade de pessoas associadas a cada condição."
      ],
      "metadata": {
        "id": "gntUxb1Rtrky"
      },
      "execution_count": null,
      "outputs": []
    },
    {
      "cell_type": "markdown",
      "source": [
        "# **Utilizando a técnica de redução de dimensionalidade Principal Component Analysis (PCA) e apresentando os resultados**"
      ],
      "metadata": {
        "id": "Mp_7-QZsqOgF"
      }
    },
    {
      "cell_type": "code",
      "source": [
        "#Imporatando as devidas Bibliotecas para a realização do PCA\n",
        "import pandas as pd\n",
        "from sklearn.preprocessing import LabelEncoder\n",
        "from sklearn.preprocessing import StandardScaler\n",
        "from sklearn.model_selection import train_test_split\n",
        "from sklearn.decomposition import PCA\n",
        "from sklearn.ensemble import RandomForestClassifier\n",
        "from sklearn.metrics import accuracy_score\n"
      ],
      "metadata": {
        "id": "6Q9TvKzN-l2_"
      },
      "execution_count": 128,
      "outputs": []
    },
    {
      "cell_type": "code",
      "source": [
        "# Criando um dataframe a partir do dados do arquivo\n",
        "df = pd.read_csv('/content/sample_data/heart_attack_prediction_dataset.csv')\n",
        "df.head()"
      ],
      "metadata": {
        "colab": {
          "base_uri": "https://localhost:8080/",
          "height": 394
        },
        "id": "qhADy_B4CGv0",
        "outputId": "0cf5679a-eda8-4625-c6cb-ad52268cfd2b"
      },
      "execution_count": 129,
      "outputs": [
        {
          "output_type": "execute_result",
          "data": {
            "text/plain": [
              "  Patient ID  Age     Sex  Cholesterol Blood Pressure  Heart Rate  Diabetes  \\\n",
              "0    BMW7812   67    Male          208         158/88          72         0   \n",
              "1    CZE1114   21    Male          389         165/93          98         1   \n",
              "2    BNI9906   21  Female          324         174/99          72         1   \n",
              "3    JLN3497   84    Male          383        163/100          73         1   \n",
              "4    GFO8847   66    Male          318          91/88          93         1   \n",
              "\n",
              "   Family History  Smoking  Obesity  ...  Sedentary Hours Per Day  Income  \\\n",
              "0               0        1        0  ...                 6.615001  261404   \n",
              "1               1        1        1  ...                 4.963459  285768   \n",
              "2               0        0        0  ...                 9.463426  235282   \n",
              "3               1        1        0  ...                 7.648981  125640   \n",
              "4               1        1        1  ...                 1.514821  160555   \n",
              "\n",
              "         BMI  Triglycerides  Physical Activity Days Per Week  \\\n",
              "0  31.251233            286                                0   \n",
              "1  27.194973            235                                1   \n",
              "2  28.176571            587                                4   \n",
              "3  36.464704            378                                3   \n",
              "4  21.809144            231                                1   \n",
              "\n",
              "   Sleep Hours Per Day    Country      Continent           Hemisphere  \\\n",
              "0                    6  Argentina  South America  Southern Hemisphere   \n",
              "1                    7     Canada  North America  Northern Hemisphere   \n",
              "2                    4     France         Europe  Northern Hemisphere   \n",
              "3                    4     Canada  North America  Northern Hemisphere   \n",
              "4                    5   Thailand           Asia  Northern Hemisphere   \n",
              "\n",
              "   Heart Attack Risk  \n",
              "0                  0  \n",
              "1                  0  \n",
              "2                  0  \n",
              "3                  0  \n",
              "4                  0  \n",
              "\n",
              "[5 rows x 26 columns]"
            ],
            "text/html": [
              "\n",
              "  <div id=\"df-02d3b1aa-c332-4ae5-a40b-a4376e76cedd\" class=\"colab-df-container\">\n",
              "    <div>\n",
              "<style scoped>\n",
              "    .dataframe tbody tr th:only-of-type {\n",
              "        vertical-align: middle;\n",
              "    }\n",
              "\n",
              "    .dataframe tbody tr th {\n",
              "        vertical-align: top;\n",
              "    }\n",
              "\n",
              "    .dataframe thead th {\n",
              "        text-align: right;\n",
              "    }\n",
              "</style>\n",
              "<table border=\"1\" class=\"dataframe\">\n",
              "  <thead>\n",
              "    <tr style=\"text-align: right;\">\n",
              "      <th></th>\n",
              "      <th>Patient ID</th>\n",
              "      <th>Age</th>\n",
              "      <th>Sex</th>\n",
              "      <th>Cholesterol</th>\n",
              "      <th>Blood Pressure</th>\n",
              "      <th>Heart Rate</th>\n",
              "      <th>Diabetes</th>\n",
              "      <th>Family History</th>\n",
              "      <th>Smoking</th>\n",
              "      <th>Obesity</th>\n",
              "      <th>...</th>\n",
              "      <th>Sedentary Hours Per Day</th>\n",
              "      <th>Income</th>\n",
              "      <th>BMI</th>\n",
              "      <th>Triglycerides</th>\n",
              "      <th>Physical Activity Days Per Week</th>\n",
              "      <th>Sleep Hours Per Day</th>\n",
              "      <th>Country</th>\n",
              "      <th>Continent</th>\n",
              "      <th>Hemisphere</th>\n",
              "      <th>Heart Attack Risk</th>\n",
              "    </tr>\n",
              "  </thead>\n",
              "  <tbody>\n",
              "    <tr>\n",
              "      <th>0</th>\n",
              "      <td>BMW7812</td>\n",
              "      <td>67</td>\n",
              "      <td>Male</td>\n",
              "      <td>208</td>\n",
              "      <td>158/88</td>\n",
              "      <td>72</td>\n",
              "      <td>0</td>\n",
              "      <td>0</td>\n",
              "      <td>1</td>\n",
              "      <td>0</td>\n",
              "      <td>...</td>\n",
              "      <td>6.615001</td>\n",
              "      <td>261404</td>\n",
              "      <td>31.251233</td>\n",
              "      <td>286</td>\n",
              "      <td>0</td>\n",
              "      <td>6</td>\n",
              "      <td>Argentina</td>\n",
              "      <td>South America</td>\n",
              "      <td>Southern Hemisphere</td>\n",
              "      <td>0</td>\n",
              "    </tr>\n",
              "    <tr>\n",
              "      <th>1</th>\n",
              "      <td>CZE1114</td>\n",
              "      <td>21</td>\n",
              "      <td>Male</td>\n",
              "      <td>389</td>\n",
              "      <td>165/93</td>\n",
              "      <td>98</td>\n",
              "      <td>1</td>\n",
              "      <td>1</td>\n",
              "      <td>1</td>\n",
              "      <td>1</td>\n",
              "      <td>...</td>\n",
              "      <td>4.963459</td>\n",
              "      <td>285768</td>\n",
              "      <td>27.194973</td>\n",
              "      <td>235</td>\n",
              "      <td>1</td>\n",
              "      <td>7</td>\n",
              "      <td>Canada</td>\n",
              "      <td>North America</td>\n",
              "      <td>Northern Hemisphere</td>\n",
              "      <td>0</td>\n",
              "    </tr>\n",
              "    <tr>\n",
              "      <th>2</th>\n",
              "      <td>BNI9906</td>\n",
              "      <td>21</td>\n",
              "      <td>Female</td>\n",
              "      <td>324</td>\n",
              "      <td>174/99</td>\n",
              "      <td>72</td>\n",
              "      <td>1</td>\n",
              "      <td>0</td>\n",
              "      <td>0</td>\n",
              "      <td>0</td>\n",
              "      <td>...</td>\n",
              "      <td>9.463426</td>\n",
              "      <td>235282</td>\n",
              "      <td>28.176571</td>\n",
              "      <td>587</td>\n",
              "      <td>4</td>\n",
              "      <td>4</td>\n",
              "      <td>France</td>\n",
              "      <td>Europe</td>\n",
              "      <td>Northern Hemisphere</td>\n",
              "      <td>0</td>\n",
              "    </tr>\n",
              "    <tr>\n",
              "      <th>3</th>\n",
              "      <td>JLN3497</td>\n",
              "      <td>84</td>\n",
              "      <td>Male</td>\n",
              "      <td>383</td>\n",
              "      <td>163/100</td>\n",
              "      <td>73</td>\n",
              "      <td>1</td>\n",
              "      <td>1</td>\n",
              "      <td>1</td>\n",
              "      <td>0</td>\n",
              "      <td>...</td>\n",
              "      <td>7.648981</td>\n",
              "      <td>125640</td>\n",
              "      <td>36.464704</td>\n",
              "      <td>378</td>\n",
              "      <td>3</td>\n",
              "      <td>4</td>\n",
              "      <td>Canada</td>\n",
              "      <td>North America</td>\n",
              "      <td>Northern Hemisphere</td>\n",
              "      <td>0</td>\n",
              "    </tr>\n",
              "    <tr>\n",
              "      <th>4</th>\n",
              "      <td>GFO8847</td>\n",
              "      <td>66</td>\n",
              "      <td>Male</td>\n",
              "      <td>318</td>\n",
              "      <td>91/88</td>\n",
              "      <td>93</td>\n",
              "      <td>1</td>\n",
              "      <td>1</td>\n",
              "      <td>1</td>\n",
              "      <td>1</td>\n",
              "      <td>...</td>\n",
              "      <td>1.514821</td>\n",
              "      <td>160555</td>\n",
              "      <td>21.809144</td>\n",
              "      <td>231</td>\n",
              "      <td>1</td>\n",
              "      <td>5</td>\n",
              "      <td>Thailand</td>\n",
              "      <td>Asia</td>\n",
              "      <td>Northern Hemisphere</td>\n",
              "      <td>0</td>\n",
              "    </tr>\n",
              "  </tbody>\n",
              "</table>\n",
              "<p>5 rows × 26 columns</p>\n",
              "</div>\n",
              "    <div class=\"colab-df-buttons\">\n",
              "\n",
              "  <div class=\"colab-df-container\">\n",
              "    <button class=\"colab-df-convert\" onclick=\"convertToInteractive('df-02d3b1aa-c332-4ae5-a40b-a4376e76cedd')\"\n",
              "            title=\"Convert this dataframe to an interactive table.\"\n",
              "            style=\"display:none;\">\n",
              "\n",
              "  <svg xmlns=\"http://www.w3.org/2000/svg\" height=\"24px\" viewBox=\"0 -960 960 960\">\n",
              "    <path d=\"M120-120v-720h720v720H120Zm60-500h600v-160H180v160Zm220 220h160v-160H400v160Zm0 220h160v-160H400v160ZM180-400h160v-160H180v160Zm440 0h160v-160H620v160ZM180-180h160v-160H180v160Zm440 0h160v-160H620v160Z\"/>\n",
              "  </svg>\n",
              "    </button>\n",
              "\n",
              "  <style>\n",
              "    .colab-df-container {\n",
              "      display:flex;\n",
              "      gap: 12px;\n",
              "    }\n",
              "\n",
              "    .colab-df-convert {\n",
              "      background-color: #E8F0FE;\n",
              "      border: none;\n",
              "      border-radius: 50%;\n",
              "      cursor: pointer;\n",
              "      display: none;\n",
              "      fill: #1967D2;\n",
              "      height: 32px;\n",
              "      padding: 0 0 0 0;\n",
              "      width: 32px;\n",
              "    }\n",
              "\n",
              "    .colab-df-convert:hover {\n",
              "      background-color: #E2EBFA;\n",
              "      box-shadow: 0px 1px 2px rgba(60, 64, 67, 0.3), 0px 1px 3px 1px rgba(60, 64, 67, 0.15);\n",
              "      fill: #174EA6;\n",
              "    }\n",
              "\n",
              "    .colab-df-buttons div {\n",
              "      margin-bottom: 4px;\n",
              "    }\n",
              "\n",
              "    [theme=dark] .colab-df-convert {\n",
              "      background-color: #3B4455;\n",
              "      fill: #D2E3FC;\n",
              "    }\n",
              "\n",
              "    [theme=dark] .colab-df-convert:hover {\n",
              "      background-color: #434B5C;\n",
              "      box-shadow: 0px 1px 3px 1px rgba(0, 0, 0, 0.15);\n",
              "      filter: drop-shadow(0px 1px 2px rgba(0, 0, 0, 0.3));\n",
              "      fill: #FFFFFF;\n",
              "    }\n",
              "  </style>\n",
              "\n",
              "    <script>\n",
              "      const buttonEl =\n",
              "        document.querySelector('#df-02d3b1aa-c332-4ae5-a40b-a4376e76cedd button.colab-df-convert');\n",
              "      buttonEl.style.display =\n",
              "        google.colab.kernel.accessAllowed ? 'block' : 'none';\n",
              "\n",
              "      async function convertToInteractive(key) {\n",
              "        const element = document.querySelector('#df-02d3b1aa-c332-4ae5-a40b-a4376e76cedd');\n",
              "        const dataTable =\n",
              "          await google.colab.kernel.invokeFunction('convertToInteractive',\n",
              "                                                    [key], {});\n",
              "        if (!dataTable) return;\n",
              "\n",
              "        const docLinkHtml = 'Like what you see? Visit the ' +\n",
              "          '<a target=\"_blank\" href=https://colab.research.google.com/notebooks/data_table.ipynb>data table notebook</a>'\n",
              "          + ' to learn more about interactive tables.';\n",
              "        element.innerHTML = '';\n",
              "        dataTable['output_type'] = 'display_data';\n",
              "        await google.colab.output.renderOutput(dataTable, element);\n",
              "        const docLink = document.createElement('div');\n",
              "        docLink.innerHTML = docLinkHtml;\n",
              "        element.appendChild(docLink);\n",
              "      }\n",
              "    </script>\n",
              "  </div>\n",
              "\n",
              "\n",
              "<div id=\"df-8e120d42-17cf-4d9f-906a-8e33c8ca0080\">\n",
              "  <button class=\"colab-df-quickchart\" onclick=\"quickchart('df-8e120d42-17cf-4d9f-906a-8e33c8ca0080')\"\n",
              "            title=\"Suggest charts\"\n",
              "            style=\"display:none;\">\n",
              "\n",
              "<svg xmlns=\"http://www.w3.org/2000/svg\" height=\"24px\"viewBox=\"0 0 24 24\"\n",
              "     width=\"24px\">\n",
              "    <g>\n",
              "        <path d=\"M19 3H5c-1.1 0-2 .9-2 2v14c0 1.1.9 2 2 2h14c1.1 0 2-.9 2-2V5c0-1.1-.9-2-2-2zM9 17H7v-7h2v7zm4 0h-2V7h2v10zm4 0h-2v-4h2v4z\"/>\n",
              "    </g>\n",
              "</svg>\n",
              "  </button>\n",
              "\n",
              "<style>\n",
              "  .colab-df-quickchart {\n",
              "      --bg-color: #E8F0FE;\n",
              "      --fill-color: #1967D2;\n",
              "      --hover-bg-color: #E2EBFA;\n",
              "      --hover-fill-color: #174EA6;\n",
              "      --disabled-fill-color: #AAA;\n",
              "      --disabled-bg-color: #DDD;\n",
              "  }\n",
              "\n",
              "  [theme=dark] .colab-df-quickchart {\n",
              "      --bg-color: #3B4455;\n",
              "      --fill-color: #D2E3FC;\n",
              "      --hover-bg-color: #434B5C;\n",
              "      --hover-fill-color: #FFFFFF;\n",
              "      --disabled-bg-color: #3B4455;\n",
              "      --disabled-fill-color: #666;\n",
              "  }\n",
              "\n",
              "  .colab-df-quickchart {\n",
              "    background-color: var(--bg-color);\n",
              "    border: none;\n",
              "    border-radius: 50%;\n",
              "    cursor: pointer;\n",
              "    display: none;\n",
              "    fill: var(--fill-color);\n",
              "    height: 32px;\n",
              "    padding: 0;\n",
              "    width: 32px;\n",
              "  }\n",
              "\n",
              "  .colab-df-quickchart:hover {\n",
              "    background-color: var(--hover-bg-color);\n",
              "    box-shadow: 0 1px 2px rgba(60, 64, 67, 0.3), 0 1px 3px 1px rgba(60, 64, 67, 0.15);\n",
              "    fill: var(--button-hover-fill-color);\n",
              "  }\n",
              "\n",
              "  .colab-df-quickchart-complete:disabled,\n",
              "  .colab-df-quickchart-complete:disabled:hover {\n",
              "    background-color: var(--disabled-bg-color);\n",
              "    fill: var(--disabled-fill-color);\n",
              "    box-shadow: none;\n",
              "  }\n",
              "\n",
              "  .colab-df-spinner {\n",
              "    border: 2px solid var(--fill-color);\n",
              "    border-color: transparent;\n",
              "    border-bottom-color: var(--fill-color);\n",
              "    animation:\n",
              "      spin 1s steps(1) infinite;\n",
              "  }\n",
              "\n",
              "  @keyframes spin {\n",
              "    0% {\n",
              "      border-color: transparent;\n",
              "      border-bottom-color: var(--fill-color);\n",
              "      border-left-color: var(--fill-color);\n",
              "    }\n",
              "    20% {\n",
              "      border-color: transparent;\n",
              "      border-left-color: var(--fill-color);\n",
              "      border-top-color: var(--fill-color);\n",
              "    }\n",
              "    30% {\n",
              "      border-color: transparent;\n",
              "      border-left-color: var(--fill-color);\n",
              "      border-top-color: var(--fill-color);\n",
              "      border-right-color: var(--fill-color);\n",
              "    }\n",
              "    40% {\n",
              "      border-color: transparent;\n",
              "      border-right-color: var(--fill-color);\n",
              "      border-top-color: var(--fill-color);\n",
              "    }\n",
              "    60% {\n",
              "      border-color: transparent;\n",
              "      border-right-color: var(--fill-color);\n",
              "    }\n",
              "    80% {\n",
              "      border-color: transparent;\n",
              "      border-right-color: var(--fill-color);\n",
              "      border-bottom-color: var(--fill-color);\n",
              "    }\n",
              "    90% {\n",
              "      border-color: transparent;\n",
              "      border-bottom-color: var(--fill-color);\n",
              "    }\n",
              "  }\n",
              "</style>\n",
              "\n",
              "  <script>\n",
              "    async function quickchart(key) {\n",
              "      const quickchartButtonEl =\n",
              "        document.querySelector('#' + key + ' button');\n",
              "      quickchartButtonEl.disabled = true;  // To prevent multiple clicks.\n",
              "      quickchartButtonEl.classList.add('colab-df-spinner');\n",
              "      try {\n",
              "        const charts = await google.colab.kernel.invokeFunction(\n",
              "            'suggestCharts', [key], {});\n",
              "      } catch (error) {\n",
              "        console.error('Error during call to suggestCharts:', error);\n",
              "      }\n",
              "      quickchartButtonEl.classList.remove('colab-df-spinner');\n",
              "      quickchartButtonEl.classList.add('colab-df-quickchart-complete');\n",
              "    }\n",
              "    (() => {\n",
              "      let quickchartButtonEl =\n",
              "        document.querySelector('#df-8e120d42-17cf-4d9f-906a-8e33c8ca0080 button');\n",
              "      quickchartButtonEl.style.display =\n",
              "        google.colab.kernel.accessAllowed ? 'block' : 'none';\n",
              "    })();\n",
              "  </script>\n",
              "</div>\n",
              "    </div>\n",
              "  </div>\n"
            ]
          },
          "metadata": {},
          "execution_count": 129
        }
      ]
    },
    {
      "cell_type": "code",
      "source": [
        "# Seleção de atributos (Dados de entrada)\n",
        "# Com o método .iloc selecionamos (por índice) todas as linhas,\n",
        "# e as colunas de 1 a 13 (o segundo parâmetro é excludente)\n",
        "X = df.iloc[:, 0:14].values"
      ],
      "metadata": {
        "id": "SMLP_uhUDZ72"
      },
      "execution_count": 130,
      "outputs": []
    },
    {
      "cell_type": "code",
      "source": [
        "y = df.iloc[:, 14].values"
      ],
      "metadata": {
        "id": "SbVAkwEKDn88"
      },
      "execution_count": 131,
      "outputs": []
    },
    {
      "cell_type": "code",
      "source": [
        "le_Cholesterol = LabelEncoder()\n",
        "le_Age = LabelEncoder()\n",
        "le_Diabetes = LabelEncoder()\n",
        "le_Smoking = LabelEncoder()\n",
        "le_Triglycerides = LabelEncoder()"
      ],
      "metadata": {
        "id": "1V3ZCGaLDvqA"
      },
      "execution_count": 120,
      "outputs": []
    },
    {
      "cell_type": "code",
      "source": [
        " #realizando a transformação de variáveis categóricas em variáveis numéricas usando o LabelEncoder para algumas\n",
        " #colunas específicas do conjunto de dados X\n",
        "X[:,1] = le_Cholesterol.fit_transform(X[:,1])\n",
        "X[:,3] = le_Age.fit_transform(X[:,3])\n",
        "X[:,5] = le_Diabetes.fit_transform(X[:,5])\n",
        "X[:,6] = le_Smoking.fit_transform(X[:,6])\n",
        "X[:,7] = le_Triglycerides.fit_transform(X[:,7])\n"
      ],
      "metadata": {
        "id": "8F3E-49hFSsr"
      },
      "execution_count": 121,
      "outputs": []
    },
    {
      "cell_type": "code",
      "source": [
        "X.shape"
      ],
      "metadata": {
        "colab": {
          "base_uri": "https://localhost:8080/"
        },
        "id": "qy3l60_9Fl6S",
        "outputId": "18a9f13b-e8bd-4888-a3ab-23909c2d70f6"
      },
      "execution_count": 122,
      "outputs": [
        {
          "output_type": "execute_result",
          "data": {
            "text/plain": [
              "(8763, 14)"
            ]
          },
          "metadata": {},
          "execution_count": 122
        }
      ]
    },
    {
      "cell_type": "code",
      "source": [
        "#divisão do  conjunto de dados em conjuntos de treino e teste\n",
        "X_treino, X_teste, y_treino, y_teste = train_test_split(X, y, test_size=0.20)"
      ],
      "metadata": {
        "id": "4ASbQZ78Hg-D"
      },
      "execution_count": 132,
      "outputs": []
    },
    {
      "cell_type": "code",
      "source": [
        "X_treino.shape, X_teste.shape"
      ],
      "metadata": {
        "colab": {
          "base_uri": "https://localhost:8080/"
        },
        "id": "jfgvmxJuHiXB",
        "outputId": "f1f352b7-e027-4226-92bc-757ffd4d3a31"
      },
      "execution_count": 124,
      "outputs": [
        {
          "output_type": "execute_result",
          "data": {
            "text/plain": [
              "((7010, 14), (1753, 14))"
            ]
          },
          "metadata": {},
          "execution_count": 124
        }
      ]
    },
    {
      "cell_type": "code",
      "source": [
        "# Criamos a variável pca e aplicamos o algoritmo PCA para a redução do número original de colunas para\n",
        "# um número definido \"p\"\n",
        "# O hiperparâmetro \"n_components\" recebe o valor definido de novas colunas (p)\n",
        "# p = 10\n",
        "p = 8\n",
        "# pca = PCA(n_components=None)\n",
        "pca = PCA(n_components=p)"
      ],
      "metadata": {
        "id": "Lq78ouIRHkvl"
      },
      "execution_count": 136,
      "outputs": []
    }
  ]
}